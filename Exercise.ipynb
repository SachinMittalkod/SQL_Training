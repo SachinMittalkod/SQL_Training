{
    "metadata": {
        "kernelspec": {
            "name": "SQL",
            "display_name": "SQL",
            "language": "sql"
        },
        "language_info": {
            "name": "sql",
            "version": ""
        }
    },
    "nbformat_minor": 2,
    "nbformat": 4,
    "cells": [
        {
            "cell_type": "code",
            "source": [
                "SELECT * from locations"
            ],
            "metadata": {
                "azdata_cell_guid": "fe7f73e5-7f8c-43e7-817f-1fee95b73643",
                "language": "sql"
            },
            "outputs": [
                {
                    "output_type": "display_data",
                    "data": {
                        "text/html": "(7 rows affected)"
                    },
                    "metadata": {}
                },
                {
                    "output_type": "display_data",
                    "data": {
                        "text/html": "Total execution time: 00:00:00.002"
                    },
                    "metadata": {}
                },
                {
                    "output_type": "execute_result",
                    "metadata": {},
                    "execution_count": 2,
                    "data": {
                        "application/vnd.dataresource+json": {
                            "schema": {
                                "fields": [
                                    {
                                        "name": "location_id"
                                    },
                                    {
                                        "name": "street_address"
                                    },
                                    {
                                        "name": "postal_code"
                                    },
                                    {
                                        "name": "city"
                                    },
                                    {
                                        "name": "state_province"
                                    },
                                    {
                                        "name": "country_id"
                                    }
                                ]
                            },
                            "data": [
                                {
                                    "0": "1400",
                                    "1": "2014 Jabberwocky Rd",
                                    "2": "26192",
                                    "3": "Southlake",
                                    "4": "Texas",
                                    "5": "US"
                                },
                                {
                                    "0": "1500",
                                    "1": "2011 Interiors Blvd",
                                    "2": "99236",
                                    "3": "South San Francisco",
                                    "4": "California",
                                    "5": "US"
                                },
                                {
                                    "0": "1700",
                                    "1": "2004 Charade Rd",
                                    "2": "98199",
                                    "3": "Seattle",
                                    "4": "Washington",
                                    "5": "US"
                                },
                                {
                                    "0": "1800",
                                    "1": "147 Spadina Ave",
                                    "2": "M5V 2L7",
                                    "3": "Toronto",
                                    "4": "Ontario",
                                    "5": "CA"
                                },
                                {
                                    "0": "2400",
                                    "1": "8204 Arthur St",
                                    "2": "NULL",
                                    "3": "London",
                                    "4": "NULL",
                                    "5": "UK"
                                },
                                {
                                    "0": "2500",
                                    "1": "Magdalen Centre, The Oxford Science Park",
                                    "2": "OX9 9ZB",
                                    "3": "Oxford",
                                    "4": "Oxford",
                                    "5": "UK"
                                },
                                {
                                    "0": "2700",
                                    "1": "Schwanthalerstr. 7031",
                                    "2": "80925",
                                    "3": "Munich",
                                    "4": "Bavaria",
                                    "5": "DE"
                                }
                            ]
                        },
                        "text/html": [
                            "<table>",
                            "<tr><th>location_id</th><th>street_address</th><th>postal_code</th><th>city</th><th>state_province</th><th>country_id</th></tr>",
                            "<tr><td>1400</td><td>2014 Jabberwocky Rd</td><td>26192</td><td>Southlake</td><td>Texas</td><td>US</td></tr>",
                            "<tr><td>1500</td><td>2011 Interiors Blvd</td><td>99236</td><td>South San Francisco</td><td>California</td><td>US</td></tr>",
                            "<tr><td>1700</td><td>2004 Charade Rd</td><td>98199</td><td>Seattle</td><td>Washington</td><td>US</td></tr>",
                            "<tr><td>1800</td><td>147 Spadina Ave</td><td>M5V 2L7</td><td>Toronto</td><td>Ontario</td><td>CA</td></tr>",
                            "<tr><td>2400</td><td>8204 Arthur St</td><td>NULL</td><td>London</td><td>NULL</td><td>UK</td></tr>",
                            "<tr><td>2500</td><td>Magdalen Centre, The Oxford Science Park</td><td>OX9 9ZB</td><td>Oxford</td><td>Oxford</td><td>UK</td></tr>",
                            "<tr><td>2700</td><td>Schwanthalerstr. 7031</td><td>80925</td><td>Munich</td><td>Bavaria</td><td>DE</td></tr>",
                            "</table>"
                        ]
                    }
                }
            ],
            "execution_count": 2
        },
        {
            "cell_type": "code",
            "source": [
                "select * from regions"
            ],
            "metadata": {
                "azdata_cell_guid": "c45745fe-5fd0-484e-b106-934ca1de8201",
                "language": "sql"
            },
            "outputs": [
                {
                    "output_type": "display_data",
                    "data": {
                        "text/html": "(4 rows affected)"
                    },
                    "metadata": {}
                },
                {
                    "output_type": "display_data",
                    "data": {
                        "text/html": "Total execution time: 00:00:00.002"
                    },
                    "metadata": {}
                },
                {
                    "output_type": "execute_result",
                    "metadata": {},
                    "execution_count": 3,
                    "data": {
                        "application/vnd.dataresource+json": {
                            "schema": {
                                "fields": [
                                    {
                                        "name": "region_id"
                                    },
                                    {
                                        "name": "region_name"
                                    }
                                ]
                            },
                            "data": [
                                {
                                    "0": "1",
                                    "1": "Europe"
                                },
                                {
                                    "0": "2",
                                    "1": "Americas"
                                },
                                {
                                    "0": "3",
                                    "1": "Asia"
                                },
                                {
                                    "0": "4",
                                    "1": "Middle East and Africa"
                                }
                            ]
                        },
                        "text/html": [
                            "<table>",
                            "<tr><th>region_id</th><th>region_name</th></tr>",
                            "<tr><td>1</td><td>Europe</td></tr>",
                            "<tr><td>2</td><td>Americas</td></tr>",
                            "<tr><td>3</td><td>Asia</td></tr>",
                            "<tr><td>4</td><td>Middle East and Africa</td></tr>",
                            "</table>"
                        ]
                    }
                }
            ],
            "execution_count": 3
        }
    ]
}