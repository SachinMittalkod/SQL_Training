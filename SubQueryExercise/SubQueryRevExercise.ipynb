{
    "metadata": {
        "kernelspec": {
            "name": "SQL",
            "display_name": "SQL",
            "language": "sql"
        },
        "language_info": {
            "name": "sql",
            "version": ""
        }
    },
    "nbformat_minor": 2,
    "nbformat": 4,
    "cells": [
        {
            "cell_type": "code",
            "source": [
                ""
            ],
            "metadata": {
                "azdata_cell_guid": "6f70f662-f495-41e4-a3de-42d61fe19165",
                "language": "sql"
            },
            "outputs": [],
            "execution_count": null
        },
        {
            "cell_type": "code",
            "source": [
                "select * from employees1\r\n",
                "select * from departments\r\n",
                "sp_help employees1\r\n",
                "sp_help departments\r\n",
                "--Q1\r\n",
                "select FIRST_NAME ,LAST_NAME,salary,DEPARTMENT_ID,JOB_ID from employees1 where JOB_ID='SA_REP'\r\n",
                "--Q2\r\n",
                "select FIRST_NAME ,LAST_NAME,salary,DEPARTMENT_ID,JOB_ID from employees1 where MANAGER_ID=122\r\n",
                "--Q3\r\n",
                "select FIRST_NAME ,LAST_NAME,HIRE_DATE from employees1 where HIRE_DATE between '08/01/1987' and '08/19/1987'\r\n",
                "--Q4\r\n",
                "select  EMPLOYEE_ID,FIRST_NAME,LAST_NAME,JOB_ID FROM employees1 where EMPLOYEE_ID between 103 and 120\r\n",
                "--Q5\r\n",
                "select FIRST_NAME,LAST_NAME,DEPARTMENT_ID from employees1 where DEPARTMENT_ID in (90,60,100,30)\r\n",
                "--Q6\r\n",
                "select DEPARTMENT_ID, sum(salary) from employees1 where DEPARTMENT_ID in (select DEPARTMENT_ID from departments) group by DEPARTMENT_ID\r\n",
                "--Q7\r\n",
                "select FIRST_NAME,LAST_NAME from employees1 where MANAGER_ID in (100,101)\r\n",
                "--Q8\r\n",
                "select FIRST_NAME, LAST_NAME from employees1 where DEPARTMENT_ID in(select DEPARTMENT_ID from employees1 group by DEPARTMENT_ID\r\n",
                "having count(DEPARTMENT_ID) between 1 and 2) and MANAGER_ID not in(201,205)\r\n",
                "\r\n",
                "--Q9\r\n",
                "select * from employees1\r\n",
                "select * from departments\r\n",
                "select * from job_history\r\n",
                "\r\n",
                "select  * from departments\r\n",
                "where DEPARTMENT_ID in(select DEPARTMENT_ID from employees1\r\n",
                "where EMPLOYEE_ID in(select EMPLOYEE_ID from job_history group by EMPLOYEE_ID having count(EMPLOYEE_ID)>1)\r\n",
                "group by DEPARTMENT_ID having max(SALARY) > 7000)\r\n",
                "\r\n",
                "--Q10\r\n",
                "select * from locations\r\n",
                "select * from departments where DEPARTMENT_ID in (70,90,110)\r\n",
                "--Q11\r\n",
                "select DEPARTMENT_ID, concat(FIRST_NAME, '', LAST_NAME)as FullName, SALARY from employees1 a \r\n",
                "WHERE SALARY in(SELECT max(SALARY) from employees1 where DEPARTMENT_ID=a.DEPARTMENT_ID)\r\n",
                "\r\n",
                "--Q12\r\n",
                "select * from jobs\r\n",
                "select job_id,JOB_TITLE,MIN_SALARY,MAX_SALARY from jobs where JOB_ID='SA_REP'\r\n",
                "\r\n",
                "\r\n",
                "\r\n",
                "\r\n",
                "\r\n",
                "\r\n",
                "\r\n",
                "\r\n",
                "\r\n",
                "\r\n",
                "\r\n",
                "\r\n",
                "\r\n",
                "\r\n",
                "\r\n",
                "\r\n",
                "\r\n",
                "\r\n",
                "\r\n",
                "\r\n",
                "\r\n",
                "\r\n",
                "\r\n",
                "\r\n",
                "\r\n",
                ""
            ],
            "metadata": {
                "azdata_cell_guid": "4ca8afd1-cd9b-4ccb-85f3-aa6a81204c47",
                "language": "sql"
            },
            "outputs": [
                {
                    "output_type": "error",
                    "evalue": "Msg 102, Level 15, State 1, Line 3\r\nIncorrect syntax near 'employees1'.",
                    "ename": "",
                    "traceback": []
                },
                {
                    "output_type": "display_data",
                    "data": {
                        "text/html": "Total execution time: 00:00:00.008"
                    },
                    "metadata": {}
                }
            ],
            "execution_count": 1
        }
    ]
}