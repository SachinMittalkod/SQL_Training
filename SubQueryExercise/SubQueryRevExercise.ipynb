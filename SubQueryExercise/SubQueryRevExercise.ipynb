{
    "metadata": {
        "kernelspec": {
            "name": "SQL",
            "display_name": "SQL",
            "language": "sql"
        },
        "language_info": {
            "name": "sql",
            "version": ""
        }
    },
    "nbformat_minor": 2,
    "nbformat": 4,
    "cells": [
        {
            "cell_type": "code",
            "source": [
                "--Q1\r\n",
                "select FIRST_NAME ,LAST_NAME,salary,DEPARTMENT_ID,JOB_ID from employees1 where JOB_ID='SA_REP'"
            ],
            "metadata": {
                "azdata_cell_guid": "6f70f662-f495-41e4-a3de-42d61fe19165",
                "language": "sql",
                "tags": []
            },
            "outputs": [
                {
                    "output_type": "display_data",
                    "data": {
                        "text/html": "(30 rows affected)"
                    },
                    "metadata": {}
                },
                {
                    "output_type": "display_data",
                    "data": {
                        "text/html": "Total execution time: 00:00:00.012"
                    },
                    "metadata": {}
                },
                {
                    "output_type": "execute_result",
                    "metadata": {},
                    "execution_count": 29,
                    "data": {
                        "application/vnd.dataresource+json": {
                            "schema": {
                                "fields": [
                                    {
                                        "name": "FIRST_NAME"
                                    },
                                    {
                                        "name": "LAST_NAME"
                                    },
                                    {
                                        "name": "salary"
                                    },
                                    {
                                        "name": "DEPARTMENT_ID"
                                    },
                                    {
                                        "name": "JOB_ID"
                                    }
                                ]
                            },
                            "data": [
                                {
                                    "0": "Peter",
                                    "1": "Tucker",
                                    "2": "10000.00",
                                    "3": "80",
                                    "4": "SA_REP"
                                },
                                {
                                    "0": "David",
                                    "1": "Bernstein",
                                    "2": "9500.00",
                                    "3": "80",
                                    "4": "SA_REP"
                                },
                                {
                                    "0": "Peter",
                                    "1": "Hall",
                                    "2": "9000.00",
                                    "3": "80",
                                    "4": "SA_REP"
                                },
                                {
                                    "0": "Christopher",
                                    "1": "Olsen",
                                    "2": "8000.00",
                                    "3": "80",
                                    "4": "SA_REP"
                                },
                                {
                                    "0": "Nanette",
                                    "1": "Cambrault",
                                    "2": "7500.00",
                                    "3": "80",
                                    "4": "SA_REP"
                                },
                                {
                                    "0": "Oliver",
                                    "1": "Tuvault",
                                    "2": "7000.00",
                                    "3": "80",
                                    "4": "SA_REP"
                                },
                                {
                                    "0": "Janette",
                                    "1": "King",
                                    "2": "10000.00",
                                    "3": "80",
                                    "4": "SA_REP"
                                },
                                {
                                    "0": "Patrick",
                                    "1": "Sully",
                                    "2": "9500.00",
                                    "3": "80",
                                    "4": "SA_REP"
                                },
                                {
                                    "0": "Allan",
                                    "1": "McEwen",
                                    "2": "9000.00",
                                    "3": "80",
                                    "4": "SA_REP"
                                },
                                {
                                    "0": "Lindsey",
                                    "1": "Smith",
                                    "2": "8000.00",
                                    "3": "80",
                                    "4": "SA_REP"
                                },
                                {
                                    "0": "Louise",
                                    "1": "Doran",
                                    "2": "7500.00",
                                    "3": "80",
                                    "4": "SA_REP"
                                },
                                {
                                    "0": "Sarath",
                                    "1": "Sewall",
                                    "2": "7000.00",
                                    "3": "80",
                                    "4": "SA_REP"
                                },
                                {
                                    "0": "Clara",
                                    "1": "Vishney",
                                    "2": "10500.00",
                                    "3": "80",
                                    "4": "SA_REP"
                                },
                                {
                                    "0": "Danielle",
                                    "1": "Greene",
                                    "2": "9500.00",
                                    "3": "80",
                                    "4": "SA_REP"
                                },
                                {
                                    "0": "Mattea",
                                    "1": "Marvins",
                                    "2": "7200.00",
                                    "3": "80",
                                    "4": "SA_REP"
                                },
                                {
                                    "0": "David",
                                    "1": "Lee",
                                    "2": "6800.00",
                                    "3": "80",
                                    "4": "SA_REP"
                                },
                                {
                                    "0": "Sundar",
                                    "1": "Ande",
                                    "2": "6400.00",
                                    "3": "80",
                                    "4": "SA_REP"
                                },
                                {
                                    "0": "Amit",
                                    "1": "Banda",
                                    "2": "6200.00",
                                    "3": "80",
                                    "4": "SA_REP"
                                },
                                {
                                    "0": "Lisa",
                                    "1": "Ozer",
                                    "2": "11500.00",
                                    "3": "80",
                                    "4": "SA_REP"
                                },
                                {
                                    "0": "Harrison",
                                    "1": "Bloom",
                                    "2": "10000.00",
                                    "3": "80",
                                    "4": "SA_REP"
                                },
                                {
                                    "0": "Tayler",
                                    "1": "Fox",
                                    "2": "9600.00",
                                    "3": "80",
                                    "4": "SA_REP"
                                },
                                {
                                    "0": "William",
                                    "1": "Smith",
                                    "2": "7400.00",
                                    "3": "80",
                                    "4": "SA_REP"
                                },
                                {
                                    "0": "Elizabeth",
                                    "1": "Bates",
                                    "2": "7300.00",
                                    "3": "80",
                                    "4": "SA_REP"
                                },
                                {
                                    "0": "Sundita",
                                    "1": "Kumar",
                                    "2": "6100.00",
                                    "3": "80",
                                    "4": "SA_REP"
                                },
                                {
                                    "0": "Ellen",
                                    "1": "Abel",
                                    "2": "11000.00",
                                    "3": "80",
                                    "4": "SA_REP"
                                },
                                {
                                    "0": "Alyssa",
                                    "1": "Hutton",
                                    "2": "8800.00",
                                    "3": "80",
                                    "4": "SA_REP"
                                },
                                {
                                    "0": "Jonathon",
                                    "1": "Taylor",
                                    "2": "8600.00",
                                    "3": "80",
                                    "4": "SA_REP"
                                },
                                {
                                    "0": "Jack",
                                    "1": "Livingston",
                                    "2": "8400.00",
                                    "3": "80",
                                    "4": "SA_REP"
                                },
                                {
                                    "0": "Kimberely",
                                    "1": "Grant",
                                    "2": "7000.00",
                                    "3": "0",
                                    "4": "SA_REP"
                                },
                                {
                                    "0": "Charles",
                                    "1": "Johnson",
                                    "2": "6200.00",
                                    "3": "80",
                                    "4": "SA_REP"
                                }
                            ]
                        },
                        "text/html": [
                            "<table>",
                            "<tr><th>FIRST_NAME</th><th>LAST_NAME</th><th>salary</th><th>DEPARTMENT_ID</th><th>JOB_ID</th></tr>",
                            "<tr><td>Peter</td><td>Tucker</td><td>10000.00</td><td>80</td><td>SA_REP</td></tr>",
                            "<tr><td>David</td><td>Bernstein</td><td>9500.00</td><td>80</td><td>SA_REP</td></tr>",
                            "<tr><td>Peter</td><td>Hall</td><td>9000.00</td><td>80</td><td>SA_REP</td></tr>",
                            "<tr><td>Christopher</td><td>Olsen</td><td>8000.00</td><td>80</td><td>SA_REP</td></tr>",
                            "<tr><td>Nanette</td><td>Cambrault</td><td>7500.00</td><td>80</td><td>SA_REP</td></tr>",
                            "<tr><td>Oliver</td><td>Tuvault</td><td>7000.00</td><td>80</td><td>SA_REP</td></tr>",
                            "<tr><td>Janette</td><td>King</td><td>10000.00</td><td>80</td><td>SA_REP</td></tr>",
                            "<tr><td>Patrick</td><td>Sully</td><td>9500.00</td><td>80</td><td>SA_REP</td></tr>",
                            "<tr><td>Allan</td><td>McEwen</td><td>9000.00</td><td>80</td><td>SA_REP</td></tr>",
                            "<tr><td>Lindsey</td><td>Smith</td><td>8000.00</td><td>80</td><td>SA_REP</td></tr>",
                            "<tr><td>Louise</td><td>Doran</td><td>7500.00</td><td>80</td><td>SA_REP</td></tr>",
                            "<tr><td>Sarath</td><td>Sewall</td><td>7000.00</td><td>80</td><td>SA_REP</td></tr>",
                            "<tr><td>Clara</td><td>Vishney</td><td>10500.00</td><td>80</td><td>SA_REP</td></tr>",
                            "<tr><td>Danielle</td><td>Greene</td><td>9500.00</td><td>80</td><td>SA_REP</td></tr>",
                            "<tr><td>Mattea</td><td>Marvins</td><td>7200.00</td><td>80</td><td>SA_REP</td></tr>",
                            "<tr><td>David</td><td>Lee</td><td>6800.00</td><td>80</td><td>SA_REP</td></tr>",
                            "<tr><td>Sundar</td><td>Ande</td><td>6400.00</td><td>80</td><td>SA_REP</td></tr>",
                            "<tr><td>Amit</td><td>Banda</td><td>6200.00</td><td>80</td><td>SA_REP</td></tr>",
                            "<tr><td>Lisa</td><td>Ozer</td><td>11500.00</td><td>80</td><td>SA_REP</td></tr>",
                            "<tr><td>Harrison</td><td>Bloom</td><td>10000.00</td><td>80</td><td>SA_REP</td></tr>",
                            "<tr><td>Tayler</td><td>Fox</td><td>9600.00</td><td>80</td><td>SA_REP</td></tr>",
                            "<tr><td>William</td><td>Smith</td><td>7400.00</td><td>80</td><td>SA_REP</td></tr>",
                            "<tr><td>Elizabeth</td><td>Bates</td><td>7300.00</td><td>80</td><td>SA_REP</td></tr>",
                            "<tr><td>Sundita</td><td>Kumar</td><td>6100.00</td><td>80</td><td>SA_REP</td></tr>",
                            "<tr><td>Ellen</td><td>Abel</td><td>11000.00</td><td>80</td><td>SA_REP</td></tr>",
                            "<tr><td>Alyssa</td><td>Hutton</td><td>8800.00</td><td>80</td><td>SA_REP</td></tr>",
                            "<tr><td>Jonathon</td><td>Taylor</td><td>8600.00</td><td>80</td><td>SA_REP</td></tr>",
                            "<tr><td>Jack</td><td>Livingston</td><td>8400.00</td><td>80</td><td>SA_REP</td></tr>",
                            "<tr><td>Kimberely</td><td>Grant</td><td>7000.00</td><td>0</td><td>SA_REP</td></tr>",
                            "<tr><td>Charles</td><td>Johnson</td><td>6200.00</td><td>80</td><td>SA_REP</td></tr>",
                            "</table>"
                        ]
                    }
                }
            ],
            "execution_count": 29
        },
        {
            "cell_type": "code",
            "source": [
                "--Q2\r\n",
                "select FIRST_NAME ,LAST_NAME,salary,DEPARTMENT_ID,JOB_ID from employees1 where MANAGER_ID=122\r\n",
                ""
            ],
            "metadata": {
                "azdata_cell_guid": "4ca8afd1-cd9b-4ccb-85f3-aa6a81204c47",
                "language": "sql",
                "tags": []
            },
            "outputs": [
                {
                    "output_type": "display_data",
                    "data": {
                        "text/html": "(8 rows affected)"
                    },
                    "metadata": {}
                },
                {
                    "output_type": "display_data",
                    "data": {
                        "text/html": "Total execution time: 00:00:00.007"
                    },
                    "metadata": {}
                },
                {
                    "output_type": "execute_result",
                    "metadata": {},
                    "execution_count": 17,
                    "data": {
                        "application/vnd.dataresource+json": {
                            "schema": {
                                "fields": [
                                    {
                                        "name": "FIRST_NAME"
                                    },
                                    {
                                        "name": "LAST_NAME"
                                    },
                                    {
                                        "name": "salary"
                                    },
                                    {
                                        "name": "DEPARTMENT_ID"
                                    },
                                    {
                                        "name": "JOB_ID"
                                    }
                                ]
                            },
                            "data": [
                                {
                                    "0": "Jason",
                                    "1": "Mallin",
                                    "2": "3300.00",
                                    "3": "50",
                                    "4": "ST_CLERK"
                                },
                                {
                                    "0": "Michael",
                                    "1": "Rogers",
                                    "2": "2900.00",
                                    "3": "50",
                                    "4": "ST_CLERK"
                                },
                                {
                                    "0": "Ki",
                                    "1": "Gee",
                                    "2": "2400.00",
                                    "3": "50",
                                    "4": "ST_CLERK"
                                },
                                {
                                    "0": "Hazel",
                                    "1": "Philtanker",
                                    "2": "2200.00",
                                    "3": "50",
                                    "4": "ST_CLERK"
                                },
                                {
                                    "0": "Kelly",
                                    "1": "Chung",
                                    "2": "3800.00",
                                    "3": "50",
                                    "4": "SH_CLERK"
                                },
                                {
                                    "0": "Jennifer",
                                    "1": "Dilly",
                                    "2": "3600.00",
                                    "3": "50",
                                    "4": "SH_CLERK"
                                },
                                {
                                    "0": "Timothy",
                                    "1": "Gates",
                                    "2": "2900.00",
                                    "3": "50",
                                    "4": "SH_CLERK"
                                },
                                {
                                    "0": "Randall",
                                    "1": "Perkins",
                                    "2": "2500.00",
                                    "3": "50",
                                    "4": "SH_CLERK"
                                }
                            ]
                        },
                        "text/html": [
                            "<table>",
                            "<tr><th>FIRST_NAME</th><th>LAST_NAME</th><th>salary</th><th>DEPARTMENT_ID</th><th>JOB_ID</th></tr>",
                            "<tr><td>Jason</td><td>Mallin</td><td>3300.00</td><td>50</td><td>ST_CLERK</td></tr>",
                            "<tr><td>Michael</td><td>Rogers</td><td>2900.00</td><td>50</td><td>ST_CLERK</td></tr>",
                            "<tr><td>Ki</td><td>Gee</td><td>2400.00</td><td>50</td><td>ST_CLERK</td></tr>",
                            "<tr><td>Hazel</td><td>Philtanker</td><td>2200.00</td><td>50</td><td>ST_CLERK</td></tr>",
                            "<tr><td>Kelly</td><td>Chung</td><td>3800.00</td><td>50</td><td>SH_CLERK</td></tr>",
                            "<tr><td>Jennifer</td><td>Dilly</td><td>3600.00</td><td>50</td><td>SH_CLERK</td></tr>",
                            "<tr><td>Timothy</td><td>Gates</td><td>2900.00</td><td>50</td><td>SH_CLERK</td></tr>",
                            "<tr><td>Randall</td><td>Perkins</td><td>2500.00</td><td>50</td><td>SH_CLERK</td></tr>",
                            "</table>"
                        ]
                    }
                }
            ],
            "execution_count": 17
        },
        {
            "cell_type": "code",
            "source": [
                "--Q3\r\n",
                "select FIRST_NAME ,LAST_NAME,HIRE_DATE from employees1 where HIRE_DATE between '08/01/1987' and '08/19/1987'"
            ],
            "metadata": {
                "language": "sql",
                "azdata_cell_guid": "65b0dd0f-9d70-4754-a51b-12eefd3cf714"
            },
            "outputs": [
                {
                    "output_type": "display_data",
                    "data": {
                        "text/html": "(19 rows affected)"
                    },
                    "metadata": {}
                },
                {
                    "output_type": "display_data",
                    "data": {
                        "text/html": "Total execution time: 00:00:00.008"
                    },
                    "metadata": {}
                },
                {
                    "output_type": "execute_result",
                    "metadata": {},
                    "execution_count": 18,
                    "data": {
                        "application/vnd.dataresource+json": {
                            "schema": {
                                "fields": [
                                    {
                                        "name": "FIRST_NAME"
                                    },
                                    {
                                        "name": "LAST_NAME"
                                    },
                                    {
                                        "name": "HIRE_DATE"
                                    }
                                ]
                            },
                            "data": [
                                {
                                    "0": "John",
                                    "1": "Russell",
                                    "2": "1987-08-01"
                                },
                                {
                                    "0": "Karen",
                                    "1": "Partners",
                                    "2": "1987-08-02"
                                },
                                {
                                    "0": "Alberto",
                                    "1": "Errazuriz",
                                    "2": "1987-08-03"
                                },
                                {
                                    "0": "Gerald",
                                    "1": "Cambrault",
                                    "2": "1987-08-04"
                                },
                                {
                                    "0": "Eleni",
                                    "1": "Zlotkey",
                                    "2": "1987-08-05"
                                },
                                {
                                    "0": "Peter",
                                    "1": "Tucker",
                                    "2": "1987-08-06"
                                },
                                {
                                    "0": "David",
                                    "1": "Bernstein",
                                    "2": "1987-08-07"
                                },
                                {
                                    "0": "Peter",
                                    "1": "Hall",
                                    "2": "1987-08-08"
                                },
                                {
                                    "0": "Christopher",
                                    "1": "Olsen",
                                    "2": "1987-08-09"
                                },
                                {
                                    "0": "Nanette",
                                    "1": "Cambrault",
                                    "2": "1987-08-10"
                                },
                                {
                                    "0": "Oliver",
                                    "1": "Tuvault",
                                    "2": "1987-08-11"
                                },
                                {
                                    "0": "Janette",
                                    "1": "King",
                                    "2": "1987-08-12"
                                },
                                {
                                    "0": "Patrick",
                                    "1": "Sully",
                                    "2": "1987-08-13"
                                },
                                {
                                    "0": "Allan",
                                    "1": "McEwen",
                                    "2": "1987-08-14"
                                },
                                {
                                    "0": "Lindsey",
                                    "1": "Smith",
                                    "2": "1987-08-15"
                                },
                                {
                                    "0": "Louise",
                                    "1": "Doran",
                                    "2": "1987-08-16"
                                },
                                {
                                    "0": "Sarath",
                                    "1": "Sewall",
                                    "2": "1987-08-17"
                                },
                                {
                                    "0": "Clara",
                                    "1": "Vishney",
                                    "2": "1987-08-18"
                                },
                                {
                                    "0": "Danielle",
                                    "1": "Greene",
                                    "2": "1987-08-19"
                                }
                            ]
                        },
                        "text/html": [
                            "<table>",
                            "<tr><th>FIRST_NAME</th><th>LAST_NAME</th><th>HIRE_DATE</th></tr>",
                            "<tr><td>John</td><td>Russell</td><td>1987-08-01</td></tr>",
                            "<tr><td>Karen</td><td>Partners</td><td>1987-08-02</td></tr>",
                            "<tr><td>Alberto</td><td>Errazuriz</td><td>1987-08-03</td></tr>",
                            "<tr><td>Gerald</td><td>Cambrault</td><td>1987-08-04</td></tr>",
                            "<tr><td>Eleni</td><td>Zlotkey</td><td>1987-08-05</td></tr>",
                            "<tr><td>Peter</td><td>Tucker</td><td>1987-08-06</td></tr>",
                            "<tr><td>David</td><td>Bernstein</td><td>1987-08-07</td></tr>",
                            "<tr><td>Peter</td><td>Hall</td><td>1987-08-08</td></tr>",
                            "<tr><td>Christopher</td><td>Olsen</td><td>1987-08-09</td></tr>",
                            "<tr><td>Nanette</td><td>Cambrault</td><td>1987-08-10</td></tr>",
                            "<tr><td>Oliver</td><td>Tuvault</td><td>1987-08-11</td></tr>",
                            "<tr><td>Janette</td><td>King</td><td>1987-08-12</td></tr>",
                            "<tr><td>Patrick</td><td>Sully</td><td>1987-08-13</td></tr>",
                            "<tr><td>Allan</td><td>McEwen</td><td>1987-08-14</td></tr>",
                            "<tr><td>Lindsey</td><td>Smith</td><td>1987-08-15</td></tr>",
                            "<tr><td>Louise</td><td>Doran</td><td>1987-08-16</td></tr>",
                            "<tr><td>Sarath</td><td>Sewall</td><td>1987-08-17</td></tr>",
                            "<tr><td>Clara</td><td>Vishney</td><td>1987-08-18</td></tr>",
                            "<tr><td>Danielle</td><td>Greene</td><td>1987-08-19</td></tr>",
                            "</table>"
                        ]
                    }
                }
            ],
            "execution_count": 18
        },
        {
            "cell_type": "code",
            "source": [
                "--Q4\r\n",
                "select  EMPLOYEE_ID,FIRST_NAME,LAST_NAME,JOB_ID FROM employees1 where EMPLOYEE_ID between 103 and 120"
            ],
            "metadata": {
                "language": "sql",
                "azdata_cell_guid": "691bb476-404a-4f97-a264-4585e7502dd6"
            },
            "outputs": [
                {
                    "output_type": "display_data",
                    "data": {
                        "text/html": "(18 rows affected)"
                    },
                    "metadata": {}
                },
                {
                    "output_type": "display_data",
                    "data": {
                        "text/html": "Total execution time: 00:00:00.007"
                    },
                    "metadata": {}
                },
                {
                    "output_type": "execute_result",
                    "metadata": {},
                    "execution_count": 19,
                    "data": {
                        "application/vnd.dataresource+json": {
                            "schema": {
                                "fields": [
                                    {
                                        "name": "EMPLOYEE_ID"
                                    },
                                    {
                                        "name": "FIRST_NAME"
                                    },
                                    {
                                        "name": "LAST_NAME"
                                    },
                                    {
                                        "name": "JOB_ID"
                                    }
                                ]
                            },
                            "data": [
                                {
                                    "0": "103",
                                    "1": "Alexander",
                                    "2": "Hunold",
                                    "3": "IT_PROG"
                                },
                                {
                                    "0": "104",
                                    "1": "Bruce",
                                    "2": "Ernst",
                                    "3": "IT_PROG"
                                },
                                {
                                    "0": "105",
                                    "1": "David",
                                    "2": "Austin",
                                    "3": "IT_PROG"
                                },
                                {
                                    "0": "106",
                                    "1": "Valli",
                                    "2": "Pataballa",
                                    "3": "IT_PROG"
                                },
                                {
                                    "0": "107",
                                    "1": "Diana",
                                    "2": "Lorentz",
                                    "3": "IT_PROG"
                                },
                                {
                                    "0": "108",
                                    "1": "Nancy",
                                    "2": "Greenberg",
                                    "3": "FI_MGR"
                                },
                                {
                                    "0": "109",
                                    "1": "Daniel",
                                    "2": "Faviet",
                                    "3": "FI_ACCOUNT"
                                },
                                {
                                    "0": "110",
                                    "1": "John",
                                    "2": "Chen",
                                    "3": "FI_ACCOUNT"
                                },
                                {
                                    "0": "111",
                                    "1": "Ismael",
                                    "2": "Sciarra",
                                    "3": "FI_ACCOUNT"
                                },
                                {
                                    "0": "112",
                                    "1": "Jose Manuel",
                                    "2": "Urman",
                                    "3": "FI_ACCOUNT"
                                },
                                {
                                    "0": "113",
                                    "1": "Luis",
                                    "2": "Popp",
                                    "3": "FI_ACCOUNT"
                                },
                                {
                                    "0": "114",
                                    "1": "Den",
                                    "2": "Raphaely",
                                    "3": "PU_MAN"
                                },
                                {
                                    "0": "115",
                                    "1": "Alexander",
                                    "2": "Khoo",
                                    "3": "PU_CLERK"
                                },
                                {
                                    "0": "116",
                                    "1": "Shelli",
                                    "2": "Baida",
                                    "3": "PU_CLERK"
                                },
                                {
                                    "0": "117",
                                    "1": "Sigal",
                                    "2": "Tobias",
                                    "3": "PU_CLERK"
                                },
                                {
                                    "0": "118",
                                    "1": "Guy",
                                    "2": "Himuro",
                                    "3": "PU_CLERK"
                                },
                                {
                                    "0": "119",
                                    "1": "Karen",
                                    "2": "Colmenares",
                                    "3": "PU_CLERK"
                                },
                                {
                                    "0": "120",
                                    "1": "Matthew",
                                    "2": "Weiss",
                                    "3": "ST_MAN"
                                }
                            ]
                        },
                        "text/html": [
                            "<table>",
                            "<tr><th>EMPLOYEE_ID</th><th>FIRST_NAME</th><th>LAST_NAME</th><th>JOB_ID</th></tr>",
                            "<tr><td>103</td><td>Alexander</td><td>Hunold</td><td>IT_PROG</td></tr>",
                            "<tr><td>104</td><td>Bruce</td><td>Ernst</td><td>IT_PROG</td></tr>",
                            "<tr><td>105</td><td>David</td><td>Austin</td><td>IT_PROG</td></tr>",
                            "<tr><td>106</td><td>Valli</td><td>Pataballa</td><td>IT_PROG</td></tr>",
                            "<tr><td>107</td><td>Diana</td><td>Lorentz</td><td>IT_PROG</td></tr>",
                            "<tr><td>108</td><td>Nancy</td><td>Greenberg</td><td>FI_MGR</td></tr>",
                            "<tr><td>109</td><td>Daniel</td><td>Faviet</td><td>FI_ACCOUNT</td></tr>",
                            "<tr><td>110</td><td>John</td><td>Chen</td><td>FI_ACCOUNT</td></tr>",
                            "<tr><td>111</td><td>Ismael</td><td>Sciarra</td><td>FI_ACCOUNT</td></tr>",
                            "<tr><td>112</td><td>Jose Manuel</td><td>Urman</td><td>FI_ACCOUNT</td></tr>",
                            "<tr><td>113</td><td>Luis</td><td>Popp</td><td>FI_ACCOUNT</td></tr>",
                            "<tr><td>114</td><td>Den</td><td>Raphaely</td><td>PU_MAN</td></tr>",
                            "<tr><td>115</td><td>Alexander</td><td>Khoo</td><td>PU_CLERK</td></tr>",
                            "<tr><td>116</td><td>Shelli</td><td>Baida</td><td>PU_CLERK</td></tr>",
                            "<tr><td>117</td><td>Sigal</td><td>Tobias</td><td>PU_CLERK</td></tr>",
                            "<tr><td>118</td><td>Guy</td><td>Himuro</td><td>PU_CLERK</td></tr>",
                            "<tr><td>119</td><td>Karen</td><td>Colmenares</td><td>PU_CLERK</td></tr>",
                            "<tr><td>120</td><td>Matthew</td><td>Weiss</td><td>ST_MAN</td></tr>",
                            "</table>"
                        ]
                    }
                }
            ],
            "execution_count": 19
        },
        {
            "cell_type": "code",
            "source": [
                "--Q5\r\n",
                "select FIRST_NAME,LAST_NAME,DEPARTMENT_ID from employees1 where DEPARTMENT_ID in (90,60,100,30)"
            ],
            "metadata": {
                "language": "sql",
                "azdata_cell_guid": "446ee5f1-4dd6-47ff-80da-ee45047be256"
            },
            "outputs": [
                {
                    "output_type": "display_data",
                    "data": {
                        "text/html": "(20 rows affected)"
                    },
                    "metadata": {}
                },
                {
                    "output_type": "display_data",
                    "data": {
                        "text/html": "Total execution time: 00:00:00.010"
                    },
                    "metadata": {}
                },
                {
                    "output_type": "execute_result",
                    "metadata": {},
                    "execution_count": 20,
                    "data": {
                        "application/vnd.dataresource+json": {
                            "schema": {
                                "fields": [
                                    {
                                        "name": "FIRST_NAME"
                                    },
                                    {
                                        "name": "LAST_NAME"
                                    },
                                    {
                                        "name": "DEPARTMENT_ID"
                                    }
                                ]
                            },
                            "data": [
                                {
                                    "0": "Steven",
                                    "1": "King",
                                    "2": "90"
                                },
                                {
                                    "0": "Neena",
                                    "1": "Kochhar",
                                    "2": "90"
                                },
                                {
                                    "0": "Lex",
                                    "1": "De Haan",
                                    "2": "90"
                                },
                                {
                                    "0": "Alexander",
                                    "1": "Hunold",
                                    "2": "60"
                                },
                                {
                                    "0": "Bruce",
                                    "1": "Ernst",
                                    "2": "60"
                                },
                                {
                                    "0": "David",
                                    "1": "Austin",
                                    "2": "60"
                                },
                                {
                                    "0": "Valli",
                                    "1": "Pataballa",
                                    "2": "60"
                                },
                                {
                                    "0": "Diana",
                                    "1": "Lorentz",
                                    "2": "60"
                                },
                                {
                                    "0": "Nancy",
                                    "1": "Greenberg",
                                    "2": "100"
                                },
                                {
                                    "0": "Daniel",
                                    "1": "Faviet",
                                    "2": "100"
                                },
                                {
                                    "0": "John",
                                    "1": "Chen",
                                    "2": "100"
                                },
                                {
                                    "0": "Ismael",
                                    "1": "Sciarra",
                                    "2": "100"
                                },
                                {
                                    "0": "Jose Manuel",
                                    "1": "Urman",
                                    "2": "100"
                                },
                                {
                                    "0": "Luis",
                                    "1": "Popp",
                                    "2": "100"
                                },
                                {
                                    "0": "Den",
                                    "1": "Raphaely",
                                    "2": "30"
                                },
                                {
                                    "0": "Alexander",
                                    "1": "Khoo",
                                    "2": "30"
                                },
                                {
                                    "0": "Shelli",
                                    "1": "Baida",
                                    "2": "30"
                                },
                                {
                                    "0": "Sigal",
                                    "1": "Tobias",
                                    "2": "30"
                                },
                                {
                                    "0": "Guy",
                                    "1": "Himuro",
                                    "2": "30"
                                },
                                {
                                    "0": "Karen",
                                    "1": "Colmenares",
                                    "2": "30"
                                }
                            ]
                        },
                        "text/html": [
                            "<table>",
                            "<tr><th>FIRST_NAME</th><th>LAST_NAME</th><th>DEPARTMENT_ID</th></tr>",
                            "<tr><td>Steven</td><td>King</td><td>90</td></tr>",
                            "<tr><td>Neena</td><td>Kochhar</td><td>90</td></tr>",
                            "<tr><td>Lex</td><td>De Haan</td><td>90</td></tr>",
                            "<tr><td>Alexander</td><td>Hunold</td><td>60</td></tr>",
                            "<tr><td>Bruce</td><td>Ernst</td><td>60</td></tr>",
                            "<tr><td>David</td><td>Austin</td><td>60</td></tr>",
                            "<tr><td>Valli</td><td>Pataballa</td><td>60</td></tr>",
                            "<tr><td>Diana</td><td>Lorentz</td><td>60</td></tr>",
                            "<tr><td>Nancy</td><td>Greenberg</td><td>100</td></tr>",
                            "<tr><td>Daniel</td><td>Faviet</td><td>100</td></tr>",
                            "<tr><td>John</td><td>Chen</td><td>100</td></tr>",
                            "<tr><td>Ismael</td><td>Sciarra</td><td>100</td></tr>",
                            "<tr><td>Jose Manuel</td><td>Urman</td><td>100</td></tr>",
                            "<tr><td>Luis</td><td>Popp</td><td>100</td></tr>",
                            "<tr><td>Den</td><td>Raphaely</td><td>30</td></tr>",
                            "<tr><td>Alexander</td><td>Khoo</td><td>30</td></tr>",
                            "<tr><td>Shelli</td><td>Baida</td><td>30</td></tr>",
                            "<tr><td>Sigal</td><td>Tobias</td><td>30</td></tr>",
                            "<tr><td>Guy</td><td>Himuro</td><td>30</td></tr>",
                            "<tr><td>Karen</td><td>Colmenares</td><td>30</td></tr>",
                            "</table>"
                        ]
                    }
                }
            ],
            "execution_count": 20
        },
        {
            "cell_type": "code",
            "source": [
                "--Q6\r\n",
                "select DEPARTMENT_ID, sum(salary) from employees1 where DEPARTMENT_ID in (select DEPARTMENT_ID from departments) group by DEPARTMENT_ID"
            ],
            "metadata": {
                "language": "sql",
                "azdata_cell_guid": "0cf5d67e-eef0-4639-a854-aea1f69bd110"
            },
            "outputs": [
                {
                    "output_type": "display_data",
                    "data": {
                        "text/html": "(11 rows affected)"
                    },
                    "metadata": {}
                },
                {
                    "output_type": "display_data",
                    "data": {
                        "text/html": "Total execution time: 00:00:00.008"
                    },
                    "metadata": {}
                },
                {
                    "output_type": "execute_result",
                    "metadata": {},
                    "execution_count": 21,
                    "data": {
                        "application/vnd.dataresource+json": {
                            "schema": {
                                "fields": [
                                    {
                                        "name": "DEPARTMENT_ID"
                                    },
                                    {
                                        "name": "(No column name)"
                                    }
                                ]
                            },
                            "data": [
                                {
                                    "0": "10",
                                    "1": "4400.00"
                                },
                                {
                                    "0": "20",
                                    "1": "19000.00"
                                },
                                {
                                    "0": "30",
                                    "1": "24900.00"
                                },
                                {
                                    "0": "40",
                                    "1": "6500.00"
                                },
                                {
                                    "0": "50",
                                    "1": "156400.00"
                                },
                                {
                                    "0": "60",
                                    "1": "28800.00"
                                },
                                {
                                    "0": "70",
                                    "1": "10000.00"
                                },
                                {
                                    "0": "80",
                                    "1": "304500.00"
                                },
                                {
                                    "0": "90",
                                    "1": "58000.00"
                                },
                                {
                                    "0": "100",
                                    "1": "51600.00"
                                },
                                {
                                    "0": "110",
                                    "1": "20300.00"
                                }
                            ]
                        },
                        "text/html": [
                            "<table>",
                            "<tr><th>DEPARTMENT_ID</th><th>(No column name)</th></tr>",
                            "<tr><td>10</td><td>4400.00</td></tr>",
                            "<tr><td>20</td><td>19000.00</td></tr>",
                            "<tr><td>30</td><td>24900.00</td></tr>",
                            "<tr><td>40</td><td>6500.00</td></tr>",
                            "<tr><td>50</td><td>156400.00</td></tr>",
                            "<tr><td>60</td><td>28800.00</td></tr>",
                            "<tr><td>70</td><td>10000.00</td></tr>",
                            "<tr><td>80</td><td>304500.00</td></tr>",
                            "<tr><td>90</td><td>58000.00</td></tr>",
                            "<tr><td>100</td><td>51600.00</td></tr>",
                            "<tr><td>110</td><td>20300.00</td></tr>",
                            "</table>"
                        ]
                    }
                }
            ],
            "execution_count": 21
        },
        {
            "cell_type": "code",
            "source": [
                "--Q7\r\n",
                "select FIRST_NAME,LAST_NAME from employees1 where MANAGER_ID in (100,101)"
            ],
            "metadata": {
                "language": "sql",
                "azdata_cell_guid": "5b34042c-df41-4a60-8684-bac4719cc5ae"
            },
            "outputs": [
                {
                    "output_type": "display_data",
                    "data": {
                        "text/html": "(19 rows affected)"
                    },
                    "metadata": {}
                },
                {
                    "output_type": "display_data",
                    "data": {
                        "text/html": "Total execution time: 00:00:00.005"
                    },
                    "metadata": {}
                },
                {
                    "output_type": "execute_result",
                    "metadata": {},
                    "execution_count": 22,
                    "data": {
                        "application/vnd.dataresource+json": {
                            "schema": {
                                "fields": [
                                    {
                                        "name": "FIRST_NAME"
                                    },
                                    {
                                        "name": "LAST_NAME"
                                    }
                                ]
                            },
                            "data": [
                                {
                                    "0": "Neena",
                                    "1": "Kochhar"
                                },
                                {
                                    "0": "Lex",
                                    "1": "De Haan"
                                },
                                {
                                    "0": "Nancy",
                                    "1": "Greenberg"
                                },
                                {
                                    "0": "Den",
                                    "1": "Raphaely"
                                },
                                {
                                    "0": "Matthew",
                                    "1": "Weiss"
                                },
                                {
                                    "0": "Adam",
                                    "1": "Fripp"
                                },
                                {
                                    "0": "Payam",
                                    "1": "Kaufling"
                                },
                                {
                                    "0": "Shanta",
                                    "1": "Vollman"
                                },
                                {
                                    "0": "Kevin",
                                    "1": "Mourgos"
                                },
                                {
                                    "0": "John",
                                    "1": "Russell"
                                },
                                {
                                    "0": "Karen",
                                    "1": "Partners"
                                },
                                {
                                    "0": "Alberto",
                                    "1": "Errazuriz"
                                },
                                {
                                    "0": "Gerald",
                                    "1": "Cambrault"
                                },
                                {
                                    "0": "Eleni",
                                    "1": "Zlotkey"
                                },
                                {
                                    "0": "Jennifer",
                                    "1": "Whalen"
                                },
                                {
                                    "0": "Michael",
                                    "1": "Hartstein"
                                },
                                {
                                    "0": "Susan",
                                    "1": "Mavris"
                                },
                                {
                                    "0": "Hermann",
                                    "1": "Baer"
                                },
                                {
                                    "0": "Shelley",
                                    "1": "Higgins"
                                }
                            ]
                        },
                        "text/html": [
                            "<table>",
                            "<tr><th>FIRST_NAME</th><th>LAST_NAME</th></tr>",
                            "<tr><td>Neena</td><td>Kochhar</td></tr>",
                            "<tr><td>Lex</td><td>De Haan</td></tr>",
                            "<tr><td>Nancy</td><td>Greenberg</td></tr>",
                            "<tr><td>Den</td><td>Raphaely</td></tr>",
                            "<tr><td>Matthew</td><td>Weiss</td></tr>",
                            "<tr><td>Adam</td><td>Fripp</td></tr>",
                            "<tr><td>Payam</td><td>Kaufling</td></tr>",
                            "<tr><td>Shanta</td><td>Vollman</td></tr>",
                            "<tr><td>Kevin</td><td>Mourgos</td></tr>",
                            "<tr><td>John</td><td>Russell</td></tr>",
                            "<tr><td>Karen</td><td>Partners</td></tr>",
                            "<tr><td>Alberto</td><td>Errazuriz</td></tr>",
                            "<tr><td>Gerald</td><td>Cambrault</td></tr>",
                            "<tr><td>Eleni</td><td>Zlotkey</td></tr>",
                            "<tr><td>Jennifer</td><td>Whalen</td></tr>",
                            "<tr><td>Michael</td><td>Hartstein</td></tr>",
                            "<tr><td>Susan</td><td>Mavris</td></tr>",
                            "<tr><td>Hermann</td><td>Baer</td></tr>",
                            "<tr><td>Shelley</td><td>Higgins</td></tr>",
                            "</table>"
                        ]
                    }
                }
            ],
            "execution_count": 22
        },
        {
            "cell_type": "code",
            "source": [
                "\r\n",
                "--Q8\r\n",
                "select FIRST_NAME, LAST_NAME from employees1 where DEPARTMENT_ID in(select DEPARTMENT_ID from employees1 group by DEPARTMENT_ID\r\n",
                "having count(DEPARTMENT_ID) between 1 and 2) and MANAGER_ID not in(201,205)"
            ],
            "metadata": {
                "language": "sql",
                "azdata_cell_guid": "431f85df-8b3c-4766-b76a-5d15feae3f47"
            },
            "outputs": [
                {
                    "output_type": "display_data",
                    "data": {
                        "text/html": "(6 rows affected)"
                    },
                    "metadata": {}
                },
                {
                    "output_type": "display_data",
                    "data": {
                        "text/html": "Total execution time: 00:00:00.007"
                    },
                    "metadata": {}
                },
                {
                    "output_type": "execute_result",
                    "metadata": {},
                    "execution_count": 23,
                    "data": {
                        "application/vnd.dataresource+json": {
                            "schema": {
                                "fields": [
                                    {
                                        "name": "FIRST_NAME"
                                    },
                                    {
                                        "name": "LAST_NAME"
                                    }
                                ]
                            },
                            "data": [
                                {
                                    "0": "Kimberely",
                                    "1": "Grant"
                                },
                                {
                                    "0": "Jennifer",
                                    "1": "Whalen"
                                },
                                {
                                    "0": "Michael",
                                    "1": "Hartstein"
                                },
                                {
                                    "0": "Susan",
                                    "1": "Mavris"
                                },
                                {
                                    "0": "Hermann",
                                    "1": "Baer"
                                },
                                {
                                    "0": "Shelley",
                                    "1": "Higgins"
                                }
                            ]
                        },
                        "text/html": [
                            "<table>",
                            "<tr><th>FIRST_NAME</th><th>LAST_NAME</th></tr>",
                            "<tr><td>Kimberely</td><td>Grant</td></tr>",
                            "<tr><td>Jennifer</td><td>Whalen</td></tr>",
                            "<tr><td>Michael</td><td>Hartstein</td></tr>",
                            "<tr><td>Susan</td><td>Mavris</td></tr>",
                            "<tr><td>Hermann</td><td>Baer</td></tr>",
                            "<tr><td>Shelley</td><td>Higgins</td></tr>",
                            "</table>"
                        ]
                    }
                }
            ],
            "execution_count": 23
        },
        {
            "cell_type": "code",
            "source": [
                "--Q9\r\n",
                "select * from employees1\r\n",
                "select * from departments\r\n",
                "select * from job_history\r\n",
                "\r\n",
                "select  * from departments\r\n",
                "where DEPARTMENT_ID in(select DEPARTMENT_ID from employees1\r\n",
                "where EMPLOYEE_ID in(select EMPLOYEE_ID from job_history group by EMPLOYEE_ID having count(EMPLOYEE_ID)>1)\r\n",
                "group by DEPARTMENT_ID having max(SALARY) > 7000)"
            ],
            "metadata": {
                "language": "sql",
                "azdata_cell_guid": "09511724-67a7-46df-a894-65cc3c218d96"
            },
            "outputs": [
                {
                    "output_type": "display_data",
                    "data": {
                        "text/html": "(107 rows affected)"
                    },
                    "metadata": {}
                },
                {
                    "output_type": "display_data",
                    "data": {
                        "text/html": "(27 rows affected)"
                    },
                    "metadata": {}
                },
                {
                    "output_type": "display_data",
                    "data": {
                        "text/html": "(10 rows affected)"
                    },
                    "metadata": {}
                },
                {
                    "output_type": "display_data",
                    "data": {
                        "text/html": "(2 rows affected)"
                    },
                    "metadata": {}
                },
                {
                    "output_type": "display_data",
                    "data": {
                        "text/html": "Total execution time: 00:00:00.035"
                    },
                    "metadata": {}
                },
                {
                    "output_type": "execute_result",
                    "metadata": {},
                    "execution_count": 24,
                    "data": {
                        "application/vnd.dataresource+json": {
                            "schema": {
                                "fields": [
                                    {
                                        "name": "EMPLOYEE_ID"
                                    },
                                    {
                                        "name": "FIRST_NAME"
                                    },
                                    {
                                        "name": "LAST_NAME"
                                    },
                                    {
                                        "name": "EMAIL"
                                    },
                                    {
                                        "name": "PHONE_NUMBER"
                                    },
                                    {
                                        "name": "HIRE_DATE"
                                    },
                                    {
                                        "name": "JOB_ID"
                                    },
                                    {
                                        "name": "SALARY"
                                    },
                                    {
                                        "name": "COMMISSION_PCT"
                                    },
                                    {
                                        "name": "MANAGER_ID"
                                    },
                                    {
                                        "name": "DEPARTMENT_ID"
                                    }
                                ]
                            },
                            "data": [
                                {
                                    "0": "100",
                                    "1": "Steven",
                                    "2": "King",
                                    "3": "SKING",
                                    "4": "515.123.4567",
                                    "5": "1987-06-17",
                                    "6": "AD_PRES",
                                    "7": "24000.00",
                                    "8": "0.00",
                                    "9": "0",
                                    "10": "90"
                                },
                                {
                                    "0": "101",
                                    "1": "Neena",
                                    "2": "Kochhar",
                                    "3": "NKOCHHAR",
                                    "4": "515.123.4568",
                                    "5": "1987-06-18",
                                    "6": "AD_VP",
                                    "7": "17000.00",
                                    "8": "0.00",
                                    "9": "100",
                                    "10": "90"
                                },
                                {
                                    "0": "102",
                                    "1": "Lex",
                                    "2": "De Haan",
                                    "3": "LDEHAAN",
                                    "4": "515.123.4569",
                                    "5": "1987-06-19",
                                    "6": "AD_VP",
                                    "7": "17000.00",
                                    "8": "0.00",
                                    "9": "100",
                                    "10": "90"
                                },
                                {
                                    "0": "103",
                                    "1": "Alexander",
                                    "2": "Hunold",
                                    "3": "AHUNOLD",
                                    "4": "590.423.4567",
                                    "5": "1987-06-20",
                                    "6": "IT_PROG",
                                    "7": "9000.00",
                                    "8": "0.00",
                                    "9": "102",
                                    "10": "60"
                                },
                                {
                                    "0": "104",
                                    "1": "Bruce",
                                    "2": "Ernst",
                                    "3": "BERNST",
                                    "4": "590.423.4568",
                                    "5": "1987-06-21",
                                    "6": "IT_PROG",
                                    "7": "6000.00",
                                    "8": "0.00",
                                    "9": "103",
                                    "10": "60"
                                },
                                {
                                    "0": "105",
                                    "1": "David",
                                    "2": "Austin",
                                    "3": "DAUSTIN",
                                    "4": "590.423.4569",
                                    "5": "1987-06-22",
                                    "6": "IT_PROG",
                                    "7": "4800.00",
                                    "8": "0.00",
                                    "9": "103",
                                    "10": "60"
                                },
                                {
                                    "0": "106",
                                    "1": "Valli",
                                    "2": "Pataballa",
                                    "3": "VPATABAL",
                                    "4": "590.423.4560",
                                    "5": "1987-06-23",
                                    "6": "IT_PROG",
                                    "7": "4800.00",
                                    "8": "0.00",
                                    "9": "103",
                                    "10": "60"
                                },
                                {
                                    "0": "107",
                                    "1": "Diana",
                                    "2": "Lorentz",
                                    "3": "DLORENTZ",
                                    "4": "590.423.5567",
                                    "5": "1987-06-24",
                                    "6": "IT_PROG",
                                    "7": "4200.00",
                                    "8": "0.00",
                                    "9": "103",
                                    "10": "60"
                                },
                                {
                                    "0": "108",
                                    "1": "Nancy",
                                    "2": "Greenberg",
                                    "3": "NGREENBE",
                                    "4": "515.124.4569",
                                    "5": "1987-06-25",
                                    "6": "FI_MGR",
                                    "7": "12000.00",
                                    "8": "0.00",
                                    "9": "101",
                                    "10": "100"
                                },
                                {
                                    "0": "109",
                                    "1": "Daniel",
                                    "2": "Faviet",
                                    "3": "DFAVIET",
                                    "4": "515.124.4169",
                                    "5": "1987-06-26",
                                    "6": "FI_ACCOUNT",
                                    "7": "9000.00",
                                    "8": "0.00",
                                    "9": "108",
                                    "10": "100"
                                },
                                {
                                    "0": "110",
                                    "1": "John",
                                    "2": "Chen",
                                    "3": "JCHEN",
                                    "4": "515.124.4269",
                                    "5": "1987-06-27",
                                    "6": "FI_ACCOUNT",
                                    "7": "8200.00",
                                    "8": "0.00",
                                    "9": "108",
                                    "10": "100"
                                },
                                {
                                    "0": "111",
                                    "1": "Ismael",
                                    "2": "Sciarra",
                                    "3": "ISCIARRA",
                                    "4": "515.124.4369",
                                    "5": "1987-06-28",
                                    "6": "FI_ACCOUNT",
                                    "7": "7700.00",
                                    "8": "0.00",
                                    "9": "108",
                                    "10": "100"
                                },
                                {
                                    "0": "112",
                                    "1": "Jose Manuel",
                                    "2": "Urman",
                                    "3": "JMURMAN",
                                    "4": "515.124.4469",
                                    "5": "1987-06-29",
                                    "6": "FI_ACCOUNT",
                                    "7": "7800.00",
                                    "8": "0.00",
                                    "9": "108",
                                    "10": "100"
                                },
                                {
                                    "0": "113",
                                    "1": "Luis",
                                    "2": "Popp",
                                    "3": "LPOPP",
                                    "4": "515.124.4567",
                                    "5": "1987-06-30",
                                    "6": "FI_ACCOUNT",
                                    "7": "6900.00",
                                    "8": "0.00",
                                    "9": "108",
                                    "10": "100"
                                },
                                {
                                    "0": "114",
                                    "1": "Den",
                                    "2": "Raphaely",
                                    "3": "DRAPHEAL",
                                    "4": "515.127.4561",
                                    "5": "1987-07-01",
                                    "6": "PU_MAN",
                                    "7": "11000.00",
                                    "8": "0.00",
                                    "9": "100",
                                    "10": "30"
                                },
                                {
                                    "0": "115",
                                    "1": "Alexander",
                                    "2": "Khoo",
                                    "3": "AKHOO",
                                    "4": "515.127.4562",
                                    "5": "1987-07-02",
                                    "6": "PU_CLERK",
                                    "7": "3100.00",
                                    "8": "0.00",
                                    "9": "114",
                                    "10": "30"
                                },
                                {
                                    "0": "116",
                                    "1": "Shelli",
                                    "2": "Baida",
                                    "3": "SBAIDA",
                                    "4": "515.127.4563",
                                    "5": "1987-07-03",
                                    "6": "PU_CLERK",
                                    "7": "2900.00",
                                    "8": "0.00",
                                    "9": "114",
                                    "10": "30"
                                },
                                {
                                    "0": "117",
                                    "1": "Sigal",
                                    "2": "Tobias",
                                    "3": "STOBIAS",
                                    "4": "515.127.4564",
                                    "5": "1987-07-04",
                                    "6": "PU_CLERK",
                                    "7": "2800.00",
                                    "8": "0.00",
                                    "9": "114",
                                    "10": "30"
                                },
                                {
                                    "0": "118",
                                    "1": "Guy",
                                    "2": "Himuro",
                                    "3": "GHIMURO",
                                    "4": "515.127.4565",
                                    "5": "1987-07-05",
                                    "6": "PU_CLERK",
                                    "7": "2600.00",
                                    "8": "0.00",
                                    "9": "114",
                                    "10": "30"
                                },
                                {
                                    "0": "119",
                                    "1": "Karen",
                                    "2": "Colmenares",
                                    "3": "KCOLMENA",
                                    "4": "515.127.4566",
                                    "5": "1987-07-06",
                                    "6": "PU_CLERK",
                                    "7": "2500.00",
                                    "8": "0.00",
                                    "9": "114",
                                    "10": "30"
                                },
                                {
                                    "0": "120",
                                    "1": "Matthew",
                                    "2": "Weiss",
                                    "3": "MWEISS",
                                    "4": "650.123.1234",
                                    "5": "1987-07-07",
                                    "6": "ST_MAN",
                                    "7": "8000.00",
                                    "8": "0.00",
                                    "9": "100",
                                    "10": "50"
                                },
                                {
                                    "0": "121",
                                    "1": "Adam",
                                    "2": "Fripp",
                                    "3": "AFRIPP",
                                    "4": "650.123.2234",
                                    "5": "1987-07-08",
                                    "6": "ST_MAN",
                                    "7": "8200.00",
                                    "8": "0.00",
                                    "9": "100",
                                    "10": "50"
                                },
                                {
                                    "0": "122",
                                    "1": "Payam",
                                    "2": "Kaufling",
                                    "3": "PKAUFLIN",
                                    "4": "650.123.3234",
                                    "5": "1987-07-09",
                                    "6": "ST_MAN",
                                    "7": "7900.00",
                                    "8": "0.00",
                                    "9": "100",
                                    "10": "50"
                                },
                                {
                                    "0": "123",
                                    "1": "Shanta",
                                    "2": "Vollman",
                                    "3": "SVOLLMAN",
                                    "4": "650.123.4234",
                                    "5": "1987-07-10",
                                    "6": "ST_MAN",
                                    "7": "6500.00",
                                    "8": "0.00",
                                    "9": "100",
                                    "10": "50"
                                },
                                {
                                    "0": "124",
                                    "1": "Kevin",
                                    "2": "Mourgos",
                                    "3": "KMOURGOS",
                                    "4": "650.123.5234",
                                    "5": "1987-07-11",
                                    "6": "ST_MAN",
                                    "7": "5800.00",
                                    "8": "0.00",
                                    "9": "100",
                                    "10": "50"
                                },
                                {
                                    "0": "125",
                                    "1": "Julia",
                                    "2": "Nayer",
                                    "3": "JNAYER",
                                    "4": "650.124.1214",
                                    "5": "1987-07-12",
                                    "6": "ST_CLERK",
                                    "7": "3200.00",
                                    "8": "0.00",
                                    "9": "120",
                                    "10": "50"
                                },
                                {
                                    "0": "126",
                                    "1": "Irene",
                                    "2": "Mikkilineni",
                                    "3": "IMIKKILI",
                                    "4": "650.124.1224",
                                    "5": "1987-07-13",
                                    "6": "ST_CLERK",
                                    "7": "2700.00",
                                    "8": "0.00",
                                    "9": "120",
                                    "10": "50"
                                },
                                {
                                    "0": "127",
                                    "1": "James",
                                    "2": "Landry",
                                    "3": "JLANDRY",
                                    "4": "650.124.1334",
                                    "5": "1987-07-14",
                                    "6": "ST_CLERK",
                                    "7": "2400.00",
                                    "8": "0.00",
                                    "9": "120",
                                    "10": "50"
                                },
                                {
                                    "0": "128",
                                    "1": "Steven",
                                    "2": "Markle",
                                    "3": "SMARKLE",
                                    "4": "650.124.1434",
                                    "5": "1987-07-15",
                                    "6": "ST_CLERK",
                                    "7": "2200.00",
                                    "8": "0.00",
                                    "9": "120",
                                    "10": "50"
                                },
                                {
                                    "0": "129",
                                    "1": "Laura",
                                    "2": "Bissot",
                                    "3": "LBISSOT",
                                    "4": "650.124.5234",
                                    "5": "1987-07-16",
                                    "6": "ST_CLERK",
                                    "7": "3300.00",
                                    "8": "0.00",
                                    "9": "121",
                                    "10": "50"
                                },
                                {
                                    "0": "130",
                                    "1": "Mozhe",
                                    "2": "Atkinson",
                                    "3": "MATKINSO",
                                    "4": "650.124.6234",
                                    "5": "1987-07-17",
                                    "6": "ST_CLERK",
                                    "7": "2800.00",
                                    "8": "0.00",
                                    "9": "121",
                                    "10": "50"
                                },
                                {
                                    "0": "131",
                                    "1": "James",
                                    "2": "Marlow",
                                    "3": "JAMRLOW",
                                    "4": "650.124.7234",
                                    "5": "1987-07-18",
                                    "6": "ST_CLERK",
                                    "7": "2500.00",
                                    "8": "0.00",
                                    "9": "121",
                                    "10": "50"
                                },
                                {
                                    "0": "132",
                                    "1": "TJ",
                                    "2": "Olson",
                                    "3": "TJOLSON",
                                    "4": "650.124.8234",
                                    "5": "1987-07-19",
                                    "6": "ST_CLERK",
                                    "7": "2100.00",
                                    "8": "0.00",
                                    "9": "121",
                                    "10": "50"
                                },
                                {
                                    "0": "133",
                                    "1": "Jason",
                                    "2": "Mallin",
                                    "3": "JMALLIN",
                                    "4": "650.127.1934",
                                    "5": "1987-07-20",
                                    "6": "ST_CLERK",
                                    "7": "3300.00",
                                    "8": "0.00",
                                    "9": "122",
                                    "10": "50"
                                },
                                {
                                    "0": "134",
                                    "1": "Michael",
                                    "2": "Rogers",
                                    "3": "MROGERS",
                                    "4": "650.127.1834",
                                    "5": "1987-07-21",
                                    "6": "ST_CLERK",
                                    "7": "2900.00",
                                    "8": "0.00",
                                    "9": "122",
                                    "10": "50"
                                },
                                {
                                    "0": "135",
                                    "1": "Ki",
                                    "2": "Gee",
                                    "3": "KGEE",
                                    "4": "650.127.1734",
                                    "5": "1987-07-22",
                                    "6": "ST_CLERK",
                                    "7": "2400.00",
                                    "8": "0.00",
                                    "9": "122",
                                    "10": "50"
                                },
                                {
                                    "0": "136",
                                    "1": "Hazel",
                                    "2": "Philtanker",
                                    "3": "HPHILTAN",
                                    "4": "650.127.1634",
                                    "5": "1987-07-23",
                                    "6": "ST_CLERK",
                                    "7": "2200.00",
                                    "8": "0.00",
                                    "9": "122",
                                    "10": "50"
                                },
                                {
                                    "0": "137",
                                    "1": "Renske",
                                    "2": "Ladwig",
                                    "3": "RLADWIG",
                                    "4": "650.121.1234",
                                    "5": "1987-07-24",
                                    "6": "ST_CLERK",
                                    "7": "3600.00",
                                    "8": "0.00",
                                    "9": "123",
                                    "10": "50"
                                },
                                {
                                    "0": "138",
                                    "1": "Stephen",
                                    "2": "Stiles",
                                    "3": "SSTILES",
                                    "4": "650.121.2034",
                                    "5": "1987-07-25",
                                    "6": "ST_CLERK",
                                    "7": "3200.00",
                                    "8": "0.00",
                                    "9": "123",
                                    "10": "50"
                                },
                                {
                                    "0": "139",
                                    "1": "John",
                                    "2": "Seo",
                                    "3": "JSEO",
                                    "4": "650.121.2019",
                                    "5": "1987-07-26",
                                    "6": "ST_CLERK",
                                    "7": "2700.00",
                                    "8": "0.00",
                                    "9": "123",
                                    "10": "50"
                                },
                                {
                                    "0": "140",
                                    "1": "Joshua",
                                    "2": "Patel",
                                    "3": "JPATEL",
                                    "4": "650.121.1834",
                                    "5": "1987-07-27",
                                    "6": "ST_CLERK",
                                    "7": "2500.00",
                                    "8": "0.00",
                                    "9": "123",
                                    "10": "50"
                                },
                                {
                                    "0": "141",
                                    "1": "Trenna",
                                    "2": "Rajs",
                                    "3": "TRAJS",
                                    "4": "650.121.8009",
                                    "5": "1987-07-28",
                                    "6": "ST_CLERK",
                                    "7": "3500.00",
                                    "8": "0.00",
                                    "9": "124",
                                    "10": "50"
                                },
                                {
                                    "0": "142",
                                    "1": "Curtis",
                                    "2": "Davies",
                                    "3": "CDAVIES",
                                    "4": "650.121.2994",
                                    "5": "1987-07-29",
                                    "6": "ST_CLERK",
                                    "7": "3100.00",
                                    "8": "0.00",
                                    "9": "124",
                                    "10": "50"
                                },
                                {
                                    "0": "143",
                                    "1": "Randall",
                                    "2": "Matos",
                                    "3": "RMATOS",
                                    "4": "650.121.2874",
                                    "5": "1987-07-30",
                                    "6": "ST_CLERK",
                                    "7": "2600.00",
                                    "8": "0.00",
                                    "9": "124",
                                    "10": "50"
                                },
                                {
                                    "0": "144",
                                    "1": "Peter",
                                    "2": "Vargas",
                                    "3": "PVARGAS",
                                    "4": "650.121.2004",
                                    "5": "1987-07-31",
                                    "6": "ST_CLERK",
                                    "7": "2500.00",
                                    "8": "0.00",
                                    "9": "124",
                                    "10": "50"
                                },
                                {
                                    "0": "145",
                                    "1": "John",
                                    "2": "Russell",
                                    "3": "JRUSSEL",
                                    "4": "011.44.1344.429268",
                                    "5": "1987-08-01",
                                    "6": "SA_MAN",
                                    "7": "14000.00",
                                    "8": "0.40",
                                    "9": "100",
                                    "10": "80"
                                },
                                {
                                    "0": "146",
                                    "1": "Karen",
                                    "2": "Partners",
                                    "3": "KPARTNER",
                                    "4": "011.44.1344.467268",
                                    "5": "1987-08-02",
                                    "6": "SA_MAN",
                                    "7": "13500.00",
                                    "8": "0.30",
                                    "9": "100",
                                    "10": "80"
                                },
                                {
                                    "0": "147",
                                    "1": "Alberto",
                                    "2": "Errazuriz",
                                    "3": "AERRAZUR",
                                    "4": "011.44.1344.429278",
                                    "5": "1987-08-03",
                                    "6": "SA_MAN",
                                    "7": "12000.00",
                                    "8": "0.30",
                                    "9": "100",
                                    "10": "80"
                                },
                                {
                                    "0": "148",
                                    "1": "Gerald",
                                    "2": "Cambrault",
                                    "3": "GCAMBRAU",
                                    "4": "011.44.1344.619268",
                                    "5": "1987-08-04",
                                    "6": "SA_MAN",
                                    "7": "11000.00",
                                    "8": "0.30",
                                    "9": "100",
                                    "10": "80"
                                },
                                {
                                    "0": "149",
                                    "1": "Eleni",
                                    "2": "Zlotkey",
                                    "3": "EZLOTKEY",
                                    "4": "011.44.1344.429018",
                                    "5": "1987-08-05",
                                    "6": "SA_MAN",
                                    "7": "10500.00",
                                    "8": "0.20",
                                    "9": "100",
                                    "10": "80"
                                },
                                {
                                    "0": "150",
                                    "1": "Peter",
                                    "2": "Tucker",
                                    "3": "PTUCKER",
                                    "4": "011.44.1344.129268",
                                    "5": "1987-08-06",
                                    "6": "SA_REP",
                                    "7": "10000.00",
                                    "8": "0.30",
                                    "9": "145",
                                    "10": "80"
                                },
                                {
                                    "0": "151",
                                    "1": "David",
                                    "2": "Bernstein",
                                    "3": "DBERNSTE",
                                    "4": "011.44.1344.345268",
                                    "5": "1987-08-07",
                                    "6": "SA_REP",
                                    "7": "9500.00",
                                    "8": "0.25",
                                    "9": "145",
                                    "10": "80"
                                },
                                {
                                    "0": "152",
                                    "1": "Peter",
                                    "2": "Hall",
                                    "3": "PHALL",
                                    "4": "011.44.1344.478968",
                                    "5": "1987-08-08",
                                    "6": "SA_REP",
                                    "7": "9000.00",
                                    "8": "0.25",
                                    "9": "145",
                                    "10": "80"
                                },
                                {
                                    "0": "153",
                                    "1": "Christopher",
                                    "2": "Olsen",
                                    "3": "COLSEN",
                                    "4": "011.44.1344.498718",
                                    "5": "1987-08-09",
                                    "6": "SA_REP",
                                    "7": "8000.00",
                                    "8": "0.20",
                                    "9": "145",
                                    "10": "80"
                                },
                                {
                                    "0": "154",
                                    "1": "Nanette",
                                    "2": "Cambrault",
                                    "3": "NCAMBRAU",
                                    "4": "011.44.1344.987668",
                                    "5": "1987-08-10",
                                    "6": "SA_REP",
                                    "7": "7500.00",
                                    "8": "0.20",
                                    "9": "145",
                                    "10": "80"
                                },
                                {
                                    "0": "155",
                                    "1": "Oliver",
                                    "2": "Tuvault",
                                    "3": "OTUVAULT",
                                    "4": "011.44.1344.486508",
                                    "5": "1987-08-11",
                                    "6": "SA_REP",
                                    "7": "7000.00",
                                    "8": "0.15",
                                    "9": "145",
                                    "10": "80"
                                },
                                {
                                    "0": "156",
                                    "1": "Janette",
                                    "2": "King",
                                    "3": "JKING",
                                    "4": "011.44.1345.429268",
                                    "5": "1987-08-12",
                                    "6": "SA_REP",
                                    "7": "10000.00",
                                    "8": "0.35",
                                    "9": "146",
                                    "10": "80"
                                },
                                {
                                    "0": "157",
                                    "1": "Patrick",
                                    "2": "Sully",
                                    "3": "PSULLY",
                                    "4": "011.44.1345.929268",
                                    "5": "1987-08-13",
                                    "6": "SA_REP",
                                    "7": "9500.00",
                                    "8": "0.35",
                                    "9": "146",
                                    "10": "80"
                                },
                                {
                                    "0": "158",
                                    "1": "Allan",
                                    "2": "McEwen",
                                    "3": "AMCEWEN",
                                    "4": "011.44.1345.829268",
                                    "5": "1987-08-14",
                                    "6": "SA_REP",
                                    "7": "9000.00",
                                    "8": "0.35",
                                    "9": "146",
                                    "10": "80"
                                },
                                {
                                    "0": "159",
                                    "1": "Lindsey",
                                    "2": "Smith",
                                    "3": "LSMITH",
                                    "4": "011.44.1345.729268",
                                    "5": "1987-08-15",
                                    "6": "SA_REP",
                                    "7": "8000.00",
                                    "8": "0.30",
                                    "9": "146",
                                    "10": "80"
                                },
                                {
                                    "0": "160",
                                    "1": "Louise",
                                    "2": "Doran",
                                    "3": "LDORAN",
                                    "4": "011.44.1345.629268",
                                    "5": "1987-08-16",
                                    "6": "SA_REP",
                                    "7": "7500.00",
                                    "8": "0.30",
                                    "9": "146",
                                    "10": "80"
                                },
                                {
                                    "0": "161",
                                    "1": "Sarath",
                                    "2": "Sewall",
                                    "3": "SSEWALL",
                                    "4": "011.44.1345.529268",
                                    "5": "1987-08-17",
                                    "6": "SA_REP",
                                    "7": "7000.00",
                                    "8": "0.25",
                                    "9": "146",
                                    "10": "80"
                                },
                                {
                                    "0": "162",
                                    "1": "Clara",
                                    "2": "Vishney",
                                    "3": "CVISHNEY",
                                    "4": "011.44.1346.129268",
                                    "5": "1987-08-18",
                                    "6": "SA_REP",
                                    "7": "10500.00",
                                    "8": "0.25",
                                    "9": "147",
                                    "10": "80"
                                },
                                {
                                    "0": "163",
                                    "1": "Danielle",
                                    "2": "Greene",
                                    "3": "DGREENE",
                                    "4": "011.44.1346.229268",
                                    "5": "1987-08-19",
                                    "6": "SA_REP",
                                    "7": "9500.00",
                                    "8": "0.15",
                                    "9": "147",
                                    "10": "80"
                                },
                                {
                                    "0": "164",
                                    "1": "Mattea",
                                    "2": "Marvins",
                                    "3": "MMARVINS",
                                    "4": "011.44.1346.329268",
                                    "5": "1987-08-20",
                                    "6": "SA_REP",
                                    "7": "7200.00",
                                    "8": "0.10",
                                    "9": "147",
                                    "10": "80"
                                },
                                {
                                    "0": "165",
                                    "1": "David",
                                    "2": "Lee",
                                    "3": "DLEE",
                                    "4": "011.44.1346.529268",
                                    "5": "1987-08-21",
                                    "6": "SA_REP",
                                    "7": "6800.00",
                                    "8": "0.10",
                                    "9": "147",
                                    "10": "80"
                                },
                                {
                                    "0": "166",
                                    "1": "Sundar",
                                    "2": "Ande",
                                    "3": "SANDE",
                                    "4": "011.44.1346.629268",
                                    "5": "1987-08-22",
                                    "6": "SA_REP",
                                    "7": "6400.00",
                                    "8": "0.10",
                                    "9": "147",
                                    "10": "80"
                                },
                                {
                                    "0": "167",
                                    "1": "Amit",
                                    "2": "Banda",
                                    "3": "ABANDA",
                                    "4": "011.44.1346.729268",
                                    "5": "1987-08-23",
                                    "6": "SA_REP",
                                    "7": "6200.00",
                                    "8": "0.10",
                                    "9": "147",
                                    "10": "80"
                                },
                                {
                                    "0": "168",
                                    "1": "Lisa",
                                    "2": "Ozer",
                                    "3": "LOZER",
                                    "4": "011.44.1343.929268",
                                    "5": "1987-08-24",
                                    "6": "SA_REP",
                                    "7": "11500.00",
                                    "8": "0.25",
                                    "9": "148",
                                    "10": "80"
                                },
                                {
                                    "0": "169",
                                    "1": "Harrison",
                                    "2": "Bloom",
                                    "3": "HBLOOM",
                                    "4": "011.44.1343.829268",
                                    "5": "1987-08-25",
                                    "6": "SA_REP",
                                    "7": "10000.00",
                                    "8": "0.20",
                                    "9": "148",
                                    "10": "80"
                                },
                                {
                                    "0": "170",
                                    "1": "Tayler",
                                    "2": "Fox",
                                    "3": "TFOX",
                                    "4": "011.44.1343.729268",
                                    "5": "1987-08-26",
                                    "6": "SA_REP",
                                    "7": "9600.00",
                                    "8": "0.20",
                                    "9": "148",
                                    "10": "80"
                                },
                                {
                                    "0": "171",
                                    "1": "William",
                                    "2": "Smith",
                                    "3": "WSMITH",
                                    "4": "011.44.1343.629268",
                                    "5": "1987-08-27",
                                    "6": "SA_REP",
                                    "7": "7400.00",
                                    "8": "0.15",
                                    "9": "148",
                                    "10": "80"
                                },
                                {
                                    "0": "172",
                                    "1": "Elizabeth",
                                    "2": "Bates",
                                    "3": "EBATES",
                                    "4": "011.44.1343.529268",
                                    "5": "1987-08-28",
                                    "6": "SA_REP",
                                    "7": "7300.00",
                                    "8": "0.15",
                                    "9": "148",
                                    "10": "80"
                                },
                                {
                                    "0": "173",
                                    "1": "Sundita",
                                    "2": "Kumar",
                                    "3": "SKUMAR",
                                    "4": "011.44.1343.329268",
                                    "5": "1987-08-29",
                                    "6": "SA_REP",
                                    "7": "6100.00",
                                    "8": "0.10",
                                    "9": "148",
                                    "10": "80"
                                },
                                {
                                    "0": "174",
                                    "1": "Ellen",
                                    "2": "Abel",
                                    "3": "EABEL",
                                    "4": "011.44.1644.429267",
                                    "5": "1987-08-30",
                                    "6": "SA_REP",
                                    "7": "11000.00",
                                    "8": "0.30",
                                    "9": "149",
                                    "10": "80"
                                },
                                {
                                    "0": "175",
                                    "1": "Alyssa",
                                    "2": "Hutton",
                                    "3": "AHUTTON",
                                    "4": "011.44.1644.429266",
                                    "5": "1987-08-31",
                                    "6": "SA_REP",
                                    "7": "8800.00",
                                    "8": "0.25",
                                    "9": "149",
                                    "10": "80"
                                },
                                {
                                    "0": "176",
                                    "1": "Jonathon",
                                    "2": "Taylor",
                                    "3": "JTAYLOR",
                                    "4": "011.44.1644.429265",
                                    "5": "1987-09-01",
                                    "6": "SA_REP",
                                    "7": "8600.00",
                                    "8": "0.20",
                                    "9": "149",
                                    "10": "80"
                                },
                                {
                                    "0": "177",
                                    "1": "Jack",
                                    "2": "Livingston",
                                    "3": "JLIVINGS",
                                    "4": "011.44.1644.429264",
                                    "5": "1987-09-02",
                                    "6": "SA_REP",
                                    "7": "8400.00",
                                    "8": "0.20",
                                    "9": "149",
                                    "10": "80"
                                },
                                {
                                    "0": "178",
                                    "1": "Kimberely",
                                    "2": "Grant",
                                    "3": "KGRANT",
                                    "4": "011.44.1644.429263",
                                    "5": "1987-09-03",
                                    "6": "SA_REP",
                                    "7": "7000.00",
                                    "8": "0.15",
                                    "9": "149",
                                    "10": "0"
                                },
                                {
                                    "0": "179",
                                    "1": "Charles",
                                    "2": "Johnson",
                                    "3": "CJOHNSON",
                                    "4": "011.44.1644.429262",
                                    "5": "1987-09-04",
                                    "6": "SA_REP",
                                    "7": "6200.00",
                                    "8": "0.10",
                                    "9": "149",
                                    "10": "80"
                                },
                                {
                                    "0": "180",
                                    "1": "Winston",
                                    "2": "Taylor",
                                    "3": "WTAYLOR",
                                    "4": "650.507.9876",
                                    "5": "1987-09-05",
                                    "6": "SH_CLERK",
                                    "7": "3200.00",
                                    "8": "0.00",
                                    "9": "120",
                                    "10": "50"
                                },
                                {
                                    "0": "181",
                                    "1": "Jean",
                                    "2": "Fleaur",
                                    "3": "JFLEAUR",
                                    "4": "650.507.9877",
                                    "5": "1987-09-06",
                                    "6": "SH_CLERK",
                                    "7": "3100.00",
                                    "8": "0.00",
                                    "9": "120",
                                    "10": "50"
                                },
                                {
                                    "0": "182",
                                    "1": "Martha",
                                    "2": "Sullivan",
                                    "3": "MSULLIVA",
                                    "4": "650.507.9878",
                                    "5": "1987-09-07",
                                    "6": "SH_CLERK",
                                    "7": "2500.00",
                                    "8": "0.00",
                                    "9": "120",
                                    "10": "50"
                                },
                                {
                                    "0": "183",
                                    "1": "Girard",
                                    "2": "Geoni",
                                    "3": "GGEONI",
                                    "4": "650.507.9879",
                                    "5": "1987-09-08",
                                    "6": "SH_CLERK",
                                    "7": "2800.00",
                                    "8": "0.00",
                                    "9": "120",
                                    "10": "50"
                                },
                                {
                                    "0": "184",
                                    "1": "Nandita",
                                    "2": "Sarchand",
                                    "3": "NSARCHAN",
                                    "4": "650.509.1876",
                                    "5": "1987-09-09",
                                    "6": "SH_CLERK",
                                    "7": "4200.00",
                                    "8": "0.00",
                                    "9": "121",
                                    "10": "50"
                                },
                                {
                                    "0": "185",
                                    "1": "Alexis",
                                    "2": "Bull",
                                    "3": "ABULL",
                                    "4": "650.509.2876",
                                    "5": "1987-09-10",
                                    "6": "SH_CLERK",
                                    "7": "4100.00",
                                    "8": "0.00",
                                    "9": "121",
                                    "10": "50"
                                },
                                {
                                    "0": "186",
                                    "1": "Julia",
                                    "2": "Dellinger",
                                    "3": "JDELLING",
                                    "4": "650.509.3876",
                                    "5": "1987-09-11",
                                    "6": "SH_CLERK",
                                    "7": "3400.00",
                                    "8": "0.00",
                                    "9": "121",
                                    "10": "50"
                                },
                                {
                                    "0": "187",
                                    "1": "Anthony",
                                    "2": "Cabrio",
                                    "3": "ACABRIO",
                                    "4": "650.509.4876",
                                    "5": "1987-09-12",
                                    "6": "SH_CLERK",
                                    "7": "3000.00",
                                    "8": "0.00",
                                    "9": "121",
                                    "10": "50"
                                },
                                {
                                    "0": "188",
                                    "1": "Kelly",
                                    "2": "Chung",
                                    "3": "KCHUNG",
                                    "4": "650.505.1876",
                                    "5": "1987-09-13",
                                    "6": "SH_CLERK",
                                    "7": "3800.00",
                                    "8": "0.00",
                                    "9": "122",
                                    "10": "50"
                                },
                                {
                                    "0": "189",
                                    "1": "Jennifer",
                                    "2": "Dilly",
                                    "3": "JDILLY",
                                    "4": "650.505.2876",
                                    "5": "1987-09-14",
                                    "6": "SH_CLERK",
                                    "7": "3600.00",
                                    "8": "0.00",
                                    "9": "122",
                                    "10": "50"
                                },
                                {
                                    "0": "190",
                                    "1": "Timothy",
                                    "2": "Gates",
                                    "3": "TGATES",
                                    "4": "650.505.3876",
                                    "5": "1987-09-15",
                                    "6": "SH_CLERK",
                                    "7": "2900.00",
                                    "8": "0.00",
                                    "9": "122",
                                    "10": "50"
                                },
                                {
                                    "0": "191",
                                    "1": "Randall",
                                    "2": "Perkins",
                                    "3": "RPERKINS",
                                    "4": "650.505.4876",
                                    "5": "1987-09-16",
                                    "6": "SH_CLERK",
                                    "7": "2500.00",
                                    "8": "0.00",
                                    "9": "122",
                                    "10": "50"
                                },
                                {
                                    "0": "192",
                                    "1": "Sarah",
                                    "2": "Bell",
                                    "3": "SBELL",
                                    "4": "650.501.1876",
                                    "5": "1987-09-17",
                                    "6": "SH_CLERK",
                                    "7": "4000.00",
                                    "8": "0.00",
                                    "9": "123",
                                    "10": "50"
                                },
                                {
                                    "0": "193",
                                    "1": "Britney",
                                    "2": "Everett",
                                    "3": "BEVERETT",
                                    "4": "650.501.2876",
                                    "5": "1987-09-18",
                                    "6": "SH_CLERK",
                                    "7": "3900.00",
                                    "8": "0.00",
                                    "9": "123",
                                    "10": "50"
                                },
                                {
                                    "0": "194",
                                    "1": "Samuel",
                                    "2": "McCain",
                                    "3": "SMCCAIN",
                                    "4": "650.501.3876",
                                    "5": "1987-09-19",
                                    "6": "SH_CLERK",
                                    "7": "3200.00",
                                    "8": "0.00",
                                    "9": "123",
                                    "10": "50"
                                },
                                {
                                    "0": "195",
                                    "1": "Vance",
                                    "2": "Jones",
                                    "3": "VJONES",
                                    "4": "650.501.4876",
                                    "5": "1987-09-20",
                                    "6": "SH_CLERK",
                                    "7": "2800.00",
                                    "8": "0.00",
                                    "9": "123",
                                    "10": "50"
                                },
                                {
                                    "0": "196",
                                    "1": "Alana",
                                    "2": "Walsh",
                                    "3": "AWALSH",
                                    "4": "650.507.9811",
                                    "5": "1987-09-21",
                                    "6": "SH_CLERK",
                                    "7": "3100.00",
                                    "8": "0.00",
                                    "9": "124",
                                    "10": "50"
                                },
                                {
                                    "0": "197",
                                    "1": "Kevin",
                                    "2": "Feeney",
                                    "3": "KFEENEY",
                                    "4": "650.507.9822",
                                    "5": "1987-09-22",
                                    "6": "SH_CLERK",
                                    "7": "3000.00",
                                    "8": "0.00",
                                    "9": "124",
                                    "10": "50"
                                },
                                {
                                    "0": "198",
                                    "1": "Donald",
                                    "2": "OConnell",
                                    "3": "DOCONNEL",
                                    "4": "650.507.9833",
                                    "5": "1987-09-23",
                                    "6": "SH_CLERK",
                                    "7": "2600.00",
                                    "8": "0.00",
                                    "9": "124",
                                    "10": "50"
                                },
                                {
                                    "0": "199",
                                    "1": "Douglas",
                                    "2": "Grant",
                                    "3": "DGRANT",
                                    "4": "650.507.9844",
                                    "5": "1987-09-24",
                                    "6": "SH_CLERK",
                                    "7": "2600.00",
                                    "8": "0.00",
                                    "9": "124",
                                    "10": "50"
                                },
                                {
                                    "0": "200",
                                    "1": "Jennifer",
                                    "2": "Whalen",
                                    "3": "JWHALEN",
                                    "4": "515.123.4444",
                                    "5": "1987-09-25",
                                    "6": "AD_ASST",
                                    "7": "4400.00",
                                    "8": "0.00",
                                    "9": "101",
                                    "10": "10"
                                },
                                {
                                    "0": "201",
                                    "1": "Michael",
                                    "2": "Hartstein",
                                    "3": "MHARTSTE",
                                    "4": "515.123.5555",
                                    "5": "1987-09-26",
                                    "6": "MK_MAN",
                                    "7": "13000.00",
                                    "8": "0.00",
                                    "9": "100",
                                    "10": "20"
                                },
                                {
                                    "0": "202",
                                    "1": "Pat",
                                    "2": "Fay",
                                    "3": "PFAY",
                                    "4": "603.123.6666",
                                    "5": "1987-09-27",
                                    "6": "MK_REP",
                                    "7": "6000.00",
                                    "8": "0.00",
                                    "9": "201",
                                    "10": "20"
                                },
                                {
                                    "0": "203",
                                    "1": "Susan",
                                    "2": "Mavris",
                                    "3": "SMAVRIS",
                                    "4": "515.123.7777",
                                    "5": "1987-09-28",
                                    "6": "HR_REP",
                                    "7": "6500.00",
                                    "8": "0.00",
                                    "9": "101",
                                    "10": "40"
                                },
                                {
                                    "0": "204",
                                    "1": "Hermann",
                                    "2": "Baer",
                                    "3": "HBAER",
                                    "4": "515.123.8888",
                                    "5": "1987-09-29",
                                    "6": "PR_REP",
                                    "7": "10000.00",
                                    "8": "0.00",
                                    "9": "101",
                                    "10": "70"
                                },
                                {
                                    "0": "205",
                                    "1": "Shelley",
                                    "2": "Higgins",
                                    "3": "SHIGGINS",
                                    "4": "515.123.8080",
                                    "5": "1987-09-30",
                                    "6": "AC_MGR",
                                    "7": "12000.00",
                                    "8": "0.00",
                                    "9": "101",
                                    "10": "110"
                                },
                                {
                                    "0": "206",
                                    "1": "William",
                                    "2": "Gietz",
                                    "3": "WGIETZ",
                                    "4": "515.123.8181",
                                    "5": "1987-10-01",
                                    "6": "AC_ACCOUNT",
                                    "7": "8300.00",
                                    "8": "0.00",
                                    "9": "205",
                                    "10": "110"
                                }
                            ]
                        },
                        "text/html": [
                            "<table>",
                            "<tr><th>EMPLOYEE_ID</th><th>FIRST_NAME</th><th>LAST_NAME</th><th>EMAIL</th><th>PHONE_NUMBER</th><th>HIRE_DATE</th><th>JOB_ID</th><th>SALARY</th><th>COMMISSION_PCT</th><th>MANAGER_ID</th><th>DEPARTMENT_ID</th></tr>",
                            "<tr><td>100</td><td>Steven</td><td>King</td><td>SKING</td><td>515.123.4567</td><td>1987-06-17</td><td>AD_PRES</td><td>24000.00</td><td>0.00</td><td>0</td><td>90</td></tr>",
                            "<tr><td>101</td><td>Neena</td><td>Kochhar</td><td>NKOCHHAR</td><td>515.123.4568</td><td>1987-06-18</td><td>AD_VP</td><td>17000.00</td><td>0.00</td><td>100</td><td>90</td></tr>",
                            "<tr><td>102</td><td>Lex</td><td>De Haan</td><td>LDEHAAN</td><td>515.123.4569</td><td>1987-06-19</td><td>AD_VP</td><td>17000.00</td><td>0.00</td><td>100</td><td>90</td></tr>",
                            "<tr><td>103</td><td>Alexander</td><td>Hunold</td><td>AHUNOLD</td><td>590.423.4567</td><td>1987-06-20</td><td>IT_PROG</td><td>9000.00</td><td>0.00</td><td>102</td><td>60</td></tr>",
                            "<tr><td>104</td><td>Bruce</td><td>Ernst</td><td>BERNST</td><td>590.423.4568</td><td>1987-06-21</td><td>IT_PROG</td><td>6000.00</td><td>0.00</td><td>103</td><td>60</td></tr>",
                            "<tr><td>105</td><td>David</td><td>Austin</td><td>DAUSTIN</td><td>590.423.4569</td><td>1987-06-22</td><td>IT_PROG</td><td>4800.00</td><td>0.00</td><td>103</td><td>60</td></tr>",
                            "<tr><td>106</td><td>Valli</td><td>Pataballa</td><td>VPATABAL</td><td>590.423.4560</td><td>1987-06-23</td><td>IT_PROG</td><td>4800.00</td><td>0.00</td><td>103</td><td>60</td></tr>",
                            "<tr><td>107</td><td>Diana</td><td>Lorentz</td><td>DLORENTZ</td><td>590.423.5567</td><td>1987-06-24</td><td>IT_PROG</td><td>4200.00</td><td>0.00</td><td>103</td><td>60</td></tr>",
                            "<tr><td>108</td><td>Nancy</td><td>Greenberg</td><td>NGREENBE</td><td>515.124.4569</td><td>1987-06-25</td><td>FI_MGR</td><td>12000.00</td><td>0.00</td><td>101</td><td>100</td></tr>",
                            "<tr><td>109</td><td>Daniel</td><td>Faviet</td><td>DFAVIET</td><td>515.124.4169</td><td>1987-06-26</td><td>FI_ACCOUNT</td><td>9000.00</td><td>0.00</td><td>108</td><td>100</td></tr>",
                            "<tr><td>110</td><td>John</td><td>Chen</td><td>JCHEN</td><td>515.124.4269</td><td>1987-06-27</td><td>FI_ACCOUNT</td><td>8200.00</td><td>0.00</td><td>108</td><td>100</td></tr>",
                            "<tr><td>111</td><td>Ismael</td><td>Sciarra</td><td>ISCIARRA</td><td>515.124.4369</td><td>1987-06-28</td><td>FI_ACCOUNT</td><td>7700.00</td><td>0.00</td><td>108</td><td>100</td></tr>",
                            "<tr><td>112</td><td>Jose Manuel</td><td>Urman</td><td>JMURMAN</td><td>515.124.4469</td><td>1987-06-29</td><td>FI_ACCOUNT</td><td>7800.00</td><td>0.00</td><td>108</td><td>100</td></tr>",
                            "<tr><td>113</td><td>Luis</td><td>Popp</td><td>LPOPP</td><td>515.124.4567</td><td>1987-06-30</td><td>FI_ACCOUNT</td><td>6900.00</td><td>0.00</td><td>108</td><td>100</td></tr>",
                            "<tr><td>114</td><td>Den</td><td>Raphaely</td><td>DRAPHEAL</td><td>515.127.4561</td><td>1987-07-01</td><td>PU_MAN</td><td>11000.00</td><td>0.00</td><td>100</td><td>30</td></tr>",
                            "<tr><td>115</td><td>Alexander</td><td>Khoo</td><td>AKHOO</td><td>515.127.4562</td><td>1987-07-02</td><td>PU_CLERK</td><td>3100.00</td><td>0.00</td><td>114</td><td>30</td></tr>",
                            "<tr><td>116</td><td>Shelli</td><td>Baida</td><td>SBAIDA</td><td>515.127.4563</td><td>1987-07-03</td><td>PU_CLERK</td><td>2900.00</td><td>0.00</td><td>114</td><td>30</td></tr>",
                            "<tr><td>117</td><td>Sigal</td><td>Tobias</td><td>STOBIAS</td><td>515.127.4564</td><td>1987-07-04</td><td>PU_CLERK</td><td>2800.00</td><td>0.00</td><td>114</td><td>30</td></tr>",
                            "<tr><td>118</td><td>Guy</td><td>Himuro</td><td>GHIMURO</td><td>515.127.4565</td><td>1987-07-05</td><td>PU_CLERK</td><td>2600.00</td><td>0.00</td><td>114</td><td>30</td></tr>",
                            "<tr><td>119</td><td>Karen</td><td>Colmenares</td><td>KCOLMENA</td><td>515.127.4566</td><td>1987-07-06</td><td>PU_CLERK</td><td>2500.00</td><td>0.00</td><td>114</td><td>30</td></tr>",
                            "<tr><td>120</td><td>Matthew</td><td>Weiss</td><td>MWEISS</td><td>650.123.1234</td><td>1987-07-07</td><td>ST_MAN</td><td>8000.00</td><td>0.00</td><td>100</td><td>50</td></tr>",
                            "<tr><td>121</td><td>Adam</td><td>Fripp</td><td>AFRIPP</td><td>650.123.2234</td><td>1987-07-08</td><td>ST_MAN</td><td>8200.00</td><td>0.00</td><td>100</td><td>50</td></tr>",
                            "<tr><td>122</td><td>Payam</td><td>Kaufling</td><td>PKAUFLIN</td><td>650.123.3234</td><td>1987-07-09</td><td>ST_MAN</td><td>7900.00</td><td>0.00</td><td>100</td><td>50</td></tr>",
                            "<tr><td>123</td><td>Shanta</td><td>Vollman</td><td>SVOLLMAN</td><td>650.123.4234</td><td>1987-07-10</td><td>ST_MAN</td><td>6500.00</td><td>0.00</td><td>100</td><td>50</td></tr>",
                            "<tr><td>124</td><td>Kevin</td><td>Mourgos</td><td>KMOURGOS</td><td>650.123.5234</td><td>1987-07-11</td><td>ST_MAN</td><td>5800.00</td><td>0.00</td><td>100</td><td>50</td></tr>",
                            "<tr><td>125</td><td>Julia</td><td>Nayer</td><td>JNAYER</td><td>650.124.1214</td><td>1987-07-12</td><td>ST_CLERK</td><td>3200.00</td><td>0.00</td><td>120</td><td>50</td></tr>",
                            "<tr><td>126</td><td>Irene</td><td>Mikkilineni</td><td>IMIKKILI</td><td>650.124.1224</td><td>1987-07-13</td><td>ST_CLERK</td><td>2700.00</td><td>0.00</td><td>120</td><td>50</td></tr>",
                            "<tr><td>127</td><td>James</td><td>Landry</td><td>JLANDRY</td><td>650.124.1334</td><td>1987-07-14</td><td>ST_CLERK</td><td>2400.00</td><td>0.00</td><td>120</td><td>50</td></tr>",
                            "<tr><td>128</td><td>Steven</td><td>Markle</td><td>SMARKLE</td><td>650.124.1434</td><td>1987-07-15</td><td>ST_CLERK</td><td>2200.00</td><td>0.00</td><td>120</td><td>50</td></tr>",
                            "<tr><td>129</td><td>Laura</td><td>Bissot</td><td>LBISSOT</td><td>650.124.5234</td><td>1987-07-16</td><td>ST_CLERK</td><td>3300.00</td><td>0.00</td><td>121</td><td>50</td></tr>",
                            "<tr><td>130</td><td>Mozhe</td><td>Atkinson</td><td>MATKINSO</td><td>650.124.6234</td><td>1987-07-17</td><td>ST_CLERK</td><td>2800.00</td><td>0.00</td><td>121</td><td>50</td></tr>",
                            "<tr><td>131</td><td>James</td><td>Marlow</td><td>JAMRLOW</td><td>650.124.7234</td><td>1987-07-18</td><td>ST_CLERK</td><td>2500.00</td><td>0.00</td><td>121</td><td>50</td></tr>",
                            "<tr><td>132</td><td>TJ</td><td>Olson</td><td>TJOLSON</td><td>650.124.8234</td><td>1987-07-19</td><td>ST_CLERK</td><td>2100.00</td><td>0.00</td><td>121</td><td>50</td></tr>",
                            "<tr><td>133</td><td>Jason</td><td>Mallin</td><td>JMALLIN</td><td>650.127.1934</td><td>1987-07-20</td><td>ST_CLERK</td><td>3300.00</td><td>0.00</td><td>122</td><td>50</td></tr>",
                            "<tr><td>134</td><td>Michael</td><td>Rogers</td><td>MROGERS</td><td>650.127.1834</td><td>1987-07-21</td><td>ST_CLERK</td><td>2900.00</td><td>0.00</td><td>122</td><td>50</td></tr>",
                            "<tr><td>135</td><td>Ki</td><td>Gee</td><td>KGEE</td><td>650.127.1734</td><td>1987-07-22</td><td>ST_CLERK</td><td>2400.00</td><td>0.00</td><td>122</td><td>50</td></tr>",
                            "<tr><td>136</td><td>Hazel</td><td>Philtanker</td><td>HPHILTAN</td><td>650.127.1634</td><td>1987-07-23</td><td>ST_CLERK</td><td>2200.00</td><td>0.00</td><td>122</td><td>50</td></tr>",
                            "<tr><td>137</td><td>Renske</td><td>Ladwig</td><td>RLADWIG</td><td>650.121.1234</td><td>1987-07-24</td><td>ST_CLERK</td><td>3600.00</td><td>0.00</td><td>123</td><td>50</td></tr>",
                            "<tr><td>138</td><td>Stephen</td><td>Stiles</td><td>SSTILES</td><td>650.121.2034</td><td>1987-07-25</td><td>ST_CLERK</td><td>3200.00</td><td>0.00</td><td>123</td><td>50</td></tr>",
                            "<tr><td>139</td><td>John</td><td>Seo</td><td>JSEO</td><td>650.121.2019</td><td>1987-07-26</td><td>ST_CLERK</td><td>2700.00</td><td>0.00</td><td>123</td><td>50</td></tr>",
                            "<tr><td>140</td><td>Joshua</td><td>Patel</td><td>JPATEL</td><td>650.121.1834</td><td>1987-07-27</td><td>ST_CLERK</td><td>2500.00</td><td>0.00</td><td>123</td><td>50</td></tr>",
                            "<tr><td>141</td><td>Trenna</td><td>Rajs</td><td>TRAJS</td><td>650.121.8009</td><td>1987-07-28</td><td>ST_CLERK</td><td>3500.00</td><td>0.00</td><td>124</td><td>50</td></tr>",
                            "<tr><td>142</td><td>Curtis</td><td>Davies</td><td>CDAVIES</td><td>650.121.2994</td><td>1987-07-29</td><td>ST_CLERK</td><td>3100.00</td><td>0.00</td><td>124</td><td>50</td></tr>",
                            "<tr><td>143</td><td>Randall</td><td>Matos</td><td>RMATOS</td><td>650.121.2874</td><td>1987-07-30</td><td>ST_CLERK</td><td>2600.00</td><td>0.00</td><td>124</td><td>50</td></tr>",
                            "<tr><td>144</td><td>Peter</td><td>Vargas</td><td>PVARGAS</td><td>650.121.2004</td><td>1987-07-31</td><td>ST_CLERK</td><td>2500.00</td><td>0.00</td><td>124</td><td>50</td></tr>",
                            "<tr><td>145</td><td>John</td><td>Russell</td><td>JRUSSEL</td><td>011.44.1344.429268</td><td>1987-08-01</td><td>SA_MAN</td><td>14000.00</td><td>0.40</td><td>100</td><td>80</td></tr>",
                            "<tr><td>146</td><td>Karen</td><td>Partners</td><td>KPARTNER</td><td>011.44.1344.467268</td><td>1987-08-02</td><td>SA_MAN</td><td>13500.00</td><td>0.30</td><td>100</td><td>80</td></tr>",
                            "<tr><td>147</td><td>Alberto</td><td>Errazuriz</td><td>AERRAZUR</td><td>011.44.1344.429278</td><td>1987-08-03</td><td>SA_MAN</td><td>12000.00</td><td>0.30</td><td>100</td><td>80</td></tr>",
                            "<tr><td>148</td><td>Gerald</td><td>Cambrault</td><td>GCAMBRAU</td><td>011.44.1344.619268</td><td>1987-08-04</td><td>SA_MAN</td><td>11000.00</td><td>0.30</td><td>100</td><td>80</td></tr>",
                            "<tr><td>149</td><td>Eleni</td><td>Zlotkey</td><td>EZLOTKEY</td><td>011.44.1344.429018</td><td>1987-08-05</td><td>SA_MAN</td><td>10500.00</td><td>0.20</td><td>100</td><td>80</td></tr>",
                            "<tr><td>150</td><td>Peter</td><td>Tucker</td><td>PTUCKER</td><td>011.44.1344.129268</td><td>1987-08-06</td><td>SA_REP</td><td>10000.00</td><td>0.30</td><td>145</td><td>80</td></tr>",
                            "<tr><td>151</td><td>David</td><td>Bernstein</td><td>DBERNSTE</td><td>011.44.1344.345268</td><td>1987-08-07</td><td>SA_REP</td><td>9500.00</td><td>0.25</td><td>145</td><td>80</td></tr>",
                            "<tr><td>152</td><td>Peter</td><td>Hall</td><td>PHALL</td><td>011.44.1344.478968</td><td>1987-08-08</td><td>SA_REP</td><td>9000.00</td><td>0.25</td><td>145</td><td>80</td></tr>",
                            "<tr><td>153</td><td>Christopher</td><td>Olsen</td><td>COLSEN</td><td>011.44.1344.498718</td><td>1987-08-09</td><td>SA_REP</td><td>8000.00</td><td>0.20</td><td>145</td><td>80</td></tr>",
                            "<tr><td>154</td><td>Nanette</td><td>Cambrault</td><td>NCAMBRAU</td><td>011.44.1344.987668</td><td>1987-08-10</td><td>SA_REP</td><td>7500.00</td><td>0.20</td><td>145</td><td>80</td></tr>",
                            "<tr><td>155</td><td>Oliver</td><td>Tuvault</td><td>OTUVAULT</td><td>011.44.1344.486508</td><td>1987-08-11</td><td>SA_REP</td><td>7000.00</td><td>0.15</td><td>145</td><td>80</td></tr>",
                            "<tr><td>156</td><td>Janette</td><td>King</td><td>JKING</td><td>011.44.1345.429268</td><td>1987-08-12</td><td>SA_REP</td><td>10000.00</td><td>0.35</td><td>146</td><td>80</td></tr>",
                            "<tr><td>157</td><td>Patrick</td><td>Sully</td><td>PSULLY</td><td>011.44.1345.929268</td><td>1987-08-13</td><td>SA_REP</td><td>9500.00</td><td>0.35</td><td>146</td><td>80</td></tr>",
                            "<tr><td>158</td><td>Allan</td><td>McEwen</td><td>AMCEWEN</td><td>011.44.1345.829268</td><td>1987-08-14</td><td>SA_REP</td><td>9000.00</td><td>0.35</td><td>146</td><td>80</td></tr>",
                            "<tr><td>159</td><td>Lindsey</td><td>Smith</td><td>LSMITH</td><td>011.44.1345.729268</td><td>1987-08-15</td><td>SA_REP</td><td>8000.00</td><td>0.30</td><td>146</td><td>80</td></tr>",
                            "<tr><td>160</td><td>Louise</td><td>Doran</td><td>LDORAN</td><td>011.44.1345.629268</td><td>1987-08-16</td><td>SA_REP</td><td>7500.00</td><td>0.30</td><td>146</td><td>80</td></tr>",
                            "<tr><td>161</td><td>Sarath</td><td>Sewall</td><td>SSEWALL</td><td>011.44.1345.529268</td><td>1987-08-17</td><td>SA_REP</td><td>7000.00</td><td>0.25</td><td>146</td><td>80</td></tr>",
                            "<tr><td>162</td><td>Clara</td><td>Vishney</td><td>CVISHNEY</td><td>011.44.1346.129268</td><td>1987-08-18</td><td>SA_REP</td><td>10500.00</td><td>0.25</td><td>147</td><td>80</td></tr>",
                            "<tr><td>163</td><td>Danielle</td><td>Greene</td><td>DGREENE</td><td>011.44.1346.229268</td><td>1987-08-19</td><td>SA_REP</td><td>9500.00</td><td>0.15</td><td>147</td><td>80</td></tr>",
                            "<tr><td>164</td><td>Mattea</td><td>Marvins</td><td>MMARVINS</td><td>011.44.1346.329268</td><td>1987-08-20</td><td>SA_REP</td><td>7200.00</td><td>0.10</td><td>147</td><td>80</td></tr>",
                            "<tr><td>165</td><td>David</td><td>Lee</td><td>DLEE</td><td>011.44.1346.529268</td><td>1987-08-21</td><td>SA_REP</td><td>6800.00</td><td>0.10</td><td>147</td><td>80</td></tr>",
                            "<tr><td>166</td><td>Sundar</td><td>Ande</td><td>SANDE</td><td>011.44.1346.629268</td><td>1987-08-22</td><td>SA_REP</td><td>6400.00</td><td>0.10</td><td>147</td><td>80</td></tr>",
                            "<tr><td>167</td><td>Amit</td><td>Banda</td><td>ABANDA</td><td>011.44.1346.729268</td><td>1987-08-23</td><td>SA_REP</td><td>6200.00</td><td>0.10</td><td>147</td><td>80</td></tr>",
                            "<tr><td>168</td><td>Lisa</td><td>Ozer</td><td>LOZER</td><td>011.44.1343.929268</td><td>1987-08-24</td><td>SA_REP</td><td>11500.00</td><td>0.25</td><td>148</td><td>80</td></tr>",
                            "<tr><td>169</td><td>Harrison</td><td>Bloom</td><td>HBLOOM</td><td>011.44.1343.829268</td><td>1987-08-25</td><td>SA_REP</td><td>10000.00</td><td>0.20</td><td>148</td><td>80</td></tr>",
                            "<tr><td>170</td><td>Tayler</td><td>Fox</td><td>TFOX</td><td>011.44.1343.729268</td><td>1987-08-26</td><td>SA_REP</td><td>9600.00</td><td>0.20</td><td>148</td><td>80</td></tr>",
                            "<tr><td>171</td><td>William</td><td>Smith</td><td>WSMITH</td><td>011.44.1343.629268</td><td>1987-08-27</td><td>SA_REP</td><td>7400.00</td><td>0.15</td><td>148</td><td>80</td></tr>",
                            "<tr><td>172</td><td>Elizabeth</td><td>Bates</td><td>EBATES</td><td>011.44.1343.529268</td><td>1987-08-28</td><td>SA_REP</td><td>7300.00</td><td>0.15</td><td>148</td><td>80</td></tr>",
                            "<tr><td>173</td><td>Sundita</td><td>Kumar</td><td>SKUMAR</td><td>011.44.1343.329268</td><td>1987-08-29</td><td>SA_REP</td><td>6100.00</td><td>0.10</td><td>148</td><td>80</td></tr>",
                            "<tr><td>174</td><td>Ellen</td><td>Abel</td><td>EABEL</td><td>011.44.1644.429267</td><td>1987-08-30</td><td>SA_REP</td><td>11000.00</td><td>0.30</td><td>149</td><td>80</td></tr>",
                            "<tr><td>175</td><td>Alyssa</td><td>Hutton</td><td>AHUTTON</td><td>011.44.1644.429266</td><td>1987-08-31</td><td>SA_REP</td><td>8800.00</td><td>0.25</td><td>149</td><td>80</td></tr>",
                            "<tr><td>176</td><td>Jonathon</td><td>Taylor</td><td>JTAYLOR</td><td>011.44.1644.429265</td><td>1987-09-01</td><td>SA_REP</td><td>8600.00</td><td>0.20</td><td>149</td><td>80</td></tr>",
                            "<tr><td>177</td><td>Jack</td><td>Livingston</td><td>JLIVINGS</td><td>011.44.1644.429264</td><td>1987-09-02</td><td>SA_REP</td><td>8400.00</td><td>0.20</td><td>149</td><td>80</td></tr>",
                            "<tr><td>178</td><td>Kimberely</td><td>Grant</td><td>KGRANT</td><td>011.44.1644.429263</td><td>1987-09-03</td><td>SA_REP</td><td>7000.00</td><td>0.15</td><td>149</td><td>0</td></tr>",
                            "<tr><td>179</td><td>Charles</td><td>Johnson</td><td>CJOHNSON</td><td>011.44.1644.429262</td><td>1987-09-04</td><td>SA_REP</td><td>6200.00</td><td>0.10</td><td>149</td><td>80</td></tr>",
                            "<tr><td>180</td><td>Winston</td><td>Taylor</td><td>WTAYLOR</td><td>650.507.9876</td><td>1987-09-05</td><td>SH_CLERK</td><td>3200.00</td><td>0.00</td><td>120</td><td>50</td></tr>",
                            "<tr><td>181</td><td>Jean</td><td>Fleaur</td><td>JFLEAUR</td><td>650.507.9877</td><td>1987-09-06</td><td>SH_CLERK</td><td>3100.00</td><td>0.00</td><td>120</td><td>50</td></tr>",
                            "<tr><td>182</td><td>Martha</td><td>Sullivan</td><td>MSULLIVA</td><td>650.507.9878</td><td>1987-09-07</td><td>SH_CLERK</td><td>2500.00</td><td>0.00</td><td>120</td><td>50</td></tr>",
                            "<tr><td>183</td><td>Girard</td><td>Geoni</td><td>GGEONI</td><td>650.507.9879</td><td>1987-09-08</td><td>SH_CLERK</td><td>2800.00</td><td>0.00</td><td>120</td><td>50</td></tr>",
                            "<tr><td>184</td><td>Nandita</td><td>Sarchand</td><td>NSARCHAN</td><td>650.509.1876</td><td>1987-09-09</td><td>SH_CLERK</td><td>4200.00</td><td>0.00</td><td>121</td><td>50</td></tr>",
                            "<tr><td>185</td><td>Alexis</td><td>Bull</td><td>ABULL</td><td>650.509.2876</td><td>1987-09-10</td><td>SH_CLERK</td><td>4100.00</td><td>0.00</td><td>121</td><td>50</td></tr>",
                            "<tr><td>186</td><td>Julia</td><td>Dellinger</td><td>JDELLING</td><td>650.509.3876</td><td>1987-09-11</td><td>SH_CLERK</td><td>3400.00</td><td>0.00</td><td>121</td><td>50</td></tr>",
                            "<tr><td>187</td><td>Anthony</td><td>Cabrio</td><td>ACABRIO</td><td>650.509.4876</td><td>1987-09-12</td><td>SH_CLERK</td><td>3000.00</td><td>0.00</td><td>121</td><td>50</td></tr>",
                            "<tr><td>188</td><td>Kelly</td><td>Chung</td><td>KCHUNG</td><td>650.505.1876</td><td>1987-09-13</td><td>SH_CLERK</td><td>3800.00</td><td>0.00</td><td>122</td><td>50</td></tr>",
                            "<tr><td>189</td><td>Jennifer</td><td>Dilly</td><td>JDILLY</td><td>650.505.2876</td><td>1987-09-14</td><td>SH_CLERK</td><td>3600.00</td><td>0.00</td><td>122</td><td>50</td></tr>",
                            "<tr><td>190</td><td>Timothy</td><td>Gates</td><td>TGATES</td><td>650.505.3876</td><td>1987-09-15</td><td>SH_CLERK</td><td>2900.00</td><td>0.00</td><td>122</td><td>50</td></tr>",
                            "<tr><td>191</td><td>Randall</td><td>Perkins</td><td>RPERKINS</td><td>650.505.4876</td><td>1987-09-16</td><td>SH_CLERK</td><td>2500.00</td><td>0.00</td><td>122</td><td>50</td></tr>",
                            "<tr><td>192</td><td>Sarah</td><td>Bell</td><td>SBELL</td><td>650.501.1876</td><td>1987-09-17</td><td>SH_CLERK</td><td>4000.00</td><td>0.00</td><td>123</td><td>50</td></tr>",
                            "<tr><td>193</td><td>Britney</td><td>Everett</td><td>BEVERETT</td><td>650.501.2876</td><td>1987-09-18</td><td>SH_CLERK</td><td>3900.00</td><td>0.00</td><td>123</td><td>50</td></tr>",
                            "<tr><td>194</td><td>Samuel</td><td>McCain</td><td>SMCCAIN</td><td>650.501.3876</td><td>1987-09-19</td><td>SH_CLERK</td><td>3200.00</td><td>0.00</td><td>123</td><td>50</td></tr>",
                            "<tr><td>195</td><td>Vance</td><td>Jones</td><td>VJONES</td><td>650.501.4876</td><td>1987-09-20</td><td>SH_CLERK</td><td>2800.00</td><td>0.00</td><td>123</td><td>50</td></tr>",
                            "<tr><td>196</td><td>Alana</td><td>Walsh</td><td>AWALSH</td><td>650.507.9811</td><td>1987-09-21</td><td>SH_CLERK</td><td>3100.00</td><td>0.00</td><td>124</td><td>50</td></tr>",
                            "<tr><td>197</td><td>Kevin</td><td>Feeney</td><td>KFEENEY</td><td>650.507.9822</td><td>1987-09-22</td><td>SH_CLERK</td><td>3000.00</td><td>0.00</td><td>124</td><td>50</td></tr>",
                            "<tr><td>198</td><td>Donald</td><td>OConnell</td><td>DOCONNEL</td><td>650.507.9833</td><td>1987-09-23</td><td>SH_CLERK</td><td>2600.00</td><td>0.00</td><td>124</td><td>50</td></tr>",
                            "<tr><td>199</td><td>Douglas</td><td>Grant</td><td>DGRANT</td><td>650.507.9844</td><td>1987-09-24</td><td>SH_CLERK</td><td>2600.00</td><td>0.00</td><td>124</td><td>50</td></tr>",
                            "<tr><td>200</td><td>Jennifer</td><td>Whalen</td><td>JWHALEN</td><td>515.123.4444</td><td>1987-09-25</td><td>AD_ASST</td><td>4400.00</td><td>0.00</td><td>101</td><td>10</td></tr>",
                            "<tr><td>201</td><td>Michael</td><td>Hartstein</td><td>MHARTSTE</td><td>515.123.5555</td><td>1987-09-26</td><td>MK_MAN</td><td>13000.00</td><td>0.00</td><td>100</td><td>20</td></tr>",
                            "<tr><td>202</td><td>Pat</td><td>Fay</td><td>PFAY</td><td>603.123.6666</td><td>1987-09-27</td><td>MK_REP</td><td>6000.00</td><td>0.00</td><td>201</td><td>20</td></tr>",
                            "<tr><td>203</td><td>Susan</td><td>Mavris</td><td>SMAVRIS</td><td>515.123.7777</td><td>1987-09-28</td><td>HR_REP</td><td>6500.00</td><td>0.00</td><td>101</td><td>40</td></tr>",
                            "<tr><td>204</td><td>Hermann</td><td>Baer</td><td>HBAER</td><td>515.123.8888</td><td>1987-09-29</td><td>PR_REP</td><td>10000.00</td><td>0.00</td><td>101</td><td>70</td></tr>",
                            "<tr><td>205</td><td>Shelley</td><td>Higgins</td><td>SHIGGINS</td><td>515.123.8080</td><td>1987-09-30</td><td>AC_MGR</td><td>12000.00</td><td>0.00</td><td>101</td><td>110</td></tr>",
                            "<tr><td>206</td><td>William</td><td>Gietz</td><td>WGIETZ</td><td>515.123.8181</td><td>1987-10-01</td><td>AC_ACCOUNT</td><td>8300.00</td><td>0.00</td><td>205</td><td>110</td></tr>",
                            "</table>"
                        ]
                    }
                },
                {
                    "output_type": "execute_result",
                    "metadata": {},
                    "execution_count": 24,
                    "data": {
                        "application/vnd.dataresource+json": {
                            "schema": {
                                "fields": [
                                    {
                                        "name": "DEPARTMENT_ID"
                                    },
                                    {
                                        "name": "DEPARTMENT_NAME"
                                    },
                                    {
                                        "name": "MANAGER_ID"
                                    },
                                    {
                                        "name": "LOCATION_ID"
                                    }
                                ]
                            },
                            "data": [
                                {
                                    "0": "10",
                                    "1": "Administration",
                                    "2": "200",
                                    "3": "1700"
                                },
                                {
                                    "0": "20",
                                    "1": "Marketing",
                                    "2": "201",
                                    "3": "1800"
                                },
                                {
                                    "0": "30",
                                    "1": "Purchasing",
                                    "2": "114",
                                    "3": "1700"
                                },
                                {
                                    "0": "40",
                                    "1": "Human Resources",
                                    "2": "203",
                                    "3": "2400"
                                },
                                {
                                    "0": "50",
                                    "1": "Shipping",
                                    "2": "121",
                                    "3": "1500"
                                },
                                {
                                    "0": "60",
                                    "1": "IT",
                                    "2": "103",
                                    "3": "1400"
                                },
                                {
                                    "0": "70",
                                    "1": "Public Relations",
                                    "2": "204",
                                    "3": "2700"
                                },
                                {
                                    "0": "80",
                                    "1": "Sales",
                                    "2": "145",
                                    "3": "2500"
                                },
                                {
                                    "0": "90",
                                    "1": "Executive",
                                    "2": "100",
                                    "3": "1700"
                                },
                                {
                                    "0": "100",
                                    "1": "Finance",
                                    "2": "108",
                                    "3": "1700"
                                },
                                {
                                    "0": "110",
                                    "1": "Accounting",
                                    "2": "205",
                                    "3": "1700"
                                },
                                {
                                    "0": "120",
                                    "1": "Treasury",
                                    "2": "0",
                                    "3": "1700"
                                },
                                {
                                    "0": "130",
                                    "1": "Corporate Tax",
                                    "2": "0",
                                    "3": "1700"
                                },
                                {
                                    "0": "140",
                                    "1": "Control And Credit",
                                    "2": "0",
                                    "3": "1700"
                                },
                                {
                                    "0": "150",
                                    "1": "Shareholder Services",
                                    "2": "0",
                                    "3": "1700"
                                },
                                {
                                    "0": "160",
                                    "1": "Benefits",
                                    "2": "0",
                                    "3": "1700"
                                },
                                {
                                    "0": "170",
                                    "1": "Manufacturing",
                                    "2": "0",
                                    "3": "1700"
                                },
                                {
                                    "0": "180",
                                    "1": "Construction",
                                    "2": "0",
                                    "3": "1700"
                                },
                                {
                                    "0": "190",
                                    "1": "Contracting",
                                    "2": "0",
                                    "3": "1700"
                                },
                                {
                                    "0": "200",
                                    "1": "Operations",
                                    "2": "0",
                                    "3": "1700"
                                },
                                {
                                    "0": "210",
                                    "1": "IT Support",
                                    "2": "0",
                                    "3": "1700"
                                },
                                {
                                    "0": "220",
                                    "1": "NOC",
                                    "2": "0",
                                    "3": "1700"
                                },
                                {
                                    "0": "230",
                                    "1": "IT Helpdesk",
                                    "2": "0",
                                    "3": "1700"
                                },
                                {
                                    "0": "240",
                                    "1": "Government Sales",
                                    "2": "0",
                                    "3": "1700"
                                },
                                {
                                    "0": "250",
                                    "1": "Retail Sales",
                                    "2": "0",
                                    "3": "1700"
                                },
                                {
                                    "0": "260",
                                    "1": "Recruiting",
                                    "2": "0",
                                    "3": "1700"
                                },
                                {
                                    "0": "270",
                                    "1": "Payroll",
                                    "2": "0",
                                    "3": "1700"
                                }
                            ]
                        },
                        "text/html": [
                            "<table>",
                            "<tr><th>DEPARTMENT_ID</th><th>DEPARTMENT_NAME</th><th>MANAGER_ID</th><th>LOCATION_ID</th></tr>",
                            "<tr><td>10</td><td>Administration</td><td>200</td><td>1700</td></tr>",
                            "<tr><td>20</td><td>Marketing</td><td>201</td><td>1800</td></tr>",
                            "<tr><td>30</td><td>Purchasing</td><td>114</td><td>1700</td></tr>",
                            "<tr><td>40</td><td>Human Resources</td><td>203</td><td>2400</td></tr>",
                            "<tr><td>50</td><td>Shipping</td><td>121</td><td>1500</td></tr>",
                            "<tr><td>60</td><td>IT</td><td>103</td><td>1400</td></tr>",
                            "<tr><td>70</td><td>Public Relations</td><td>204</td><td>2700</td></tr>",
                            "<tr><td>80</td><td>Sales</td><td>145</td><td>2500</td></tr>",
                            "<tr><td>90</td><td>Executive</td><td>100</td><td>1700</td></tr>",
                            "<tr><td>100</td><td>Finance</td><td>108</td><td>1700</td></tr>",
                            "<tr><td>110</td><td>Accounting</td><td>205</td><td>1700</td></tr>",
                            "<tr><td>120</td><td>Treasury</td><td>0</td><td>1700</td></tr>",
                            "<tr><td>130</td><td>Corporate Tax</td><td>0</td><td>1700</td></tr>",
                            "<tr><td>140</td><td>Control And Credit</td><td>0</td><td>1700</td></tr>",
                            "<tr><td>150</td><td>Shareholder Services</td><td>0</td><td>1700</td></tr>",
                            "<tr><td>160</td><td>Benefits</td><td>0</td><td>1700</td></tr>",
                            "<tr><td>170</td><td>Manufacturing</td><td>0</td><td>1700</td></tr>",
                            "<tr><td>180</td><td>Construction</td><td>0</td><td>1700</td></tr>",
                            "<tr><td>190</td><td>Contracting</td><td>0</td><td>1700</td></tr>",
                            "<tr><td>200</td><td>Operations</td><td>0</td><td>1700</td></tr>",
                            "<tr><td>210</td><td>IT Support</td><td>0</td><td>1700</td></tr>",
                            "<tr><td>220</td><td>NOC</td><td>0</td><td>1700</td></tr>",
                            "<tr><td>230</td><td>IT Helpdesk</td><td>0</td><td>1700</td></tr>",
                            "<tr><td>240</td><td>Government Sales</td><td>0</td><td>1700</td></tr>",
                            "<tr><td>250</td><td>Retail Sales</td><td>0</td><td>1700</td></tr>",
                            "<tr><td>260</td><td>Recruiting</td><td>0</td><td>1700</td></tr>",
                            "<tr><td>270</td><td>Payroll</td><td>0</td><td>1700</td></tr>",
                            "</table>"
                        ]
                    }
                },
                {
                    "output_type": "execute_result",
                    "metadata": {},
                    "execution_count": 24,
                    "data": {
                        "application/vnd.dataresource+json": {
                            "schema": {
                                "fields": [
                                    {
                                        "name": "EMPLOYEE_ID"
                                    },
                                    {
                                        "name": "START_DATE"
                                    },
                                    {
                                        "name": "END_DATE"
                                    },
                                    {
                                        "name": "JOB_ID"
                                    },
                                    {
                                        "name": "DEPARTMENT_ID"
                                    }
                                ]
                            },
                            "data": [
                                {
                                    "0": "101",
                                    "1": "1989-09-21",
                                    "2": "1993-10-27",
                                    "3": "AC_ACCOUNT",
                                    "4": "110"
                                },
                                {
                                    "0": "101",
                                    "1": "1993-10-28",
                                    "2": "1997-03-15",
                                    "3": "AC_MGR",
                                    "4": "110"
                                },
                                {
                                    "0": "102",
                                    "1": "1993-01-13",
                                    "2": "1998-07-24",
                                    "3": "IT_PROG",
                                    "4": "60"
                                },
                                {
                                    "0": "114",
                                    "1": "1998-03-24",
                                    "2": "1999-12-31",
                                    "3": "ST_CLERK",
                                    "4": "50"
                                },
                                {
                                    "0": "122",
                                    "1": "1999-01-01",
                                    "2": "1999-12-31",
                                    "3": "ST_CLERK",
                                    "4": "50"
                                },
                                {
                                    "0": "176",
                                    "1": "1998-03-24",
                                    "2": "1998-12-31",
                                    "3": "SA_REP",
                                    "4": "80"
                                },
                                {
                                    "0": "176",
                                    "1": "1999-01-01",
                                    "2": "1999-12-31",
                                    "3": "SA_MAN",
                                    "4": "80"
                                },
                                {
                                    "0": "200",
                                    "1": "1987-09-17",
                                    "2": "1993-06-17",
                                    "3": "AD_ASST",
                                    "4": "90"
                                },
                                {
                                    "0": "200",
                                    "1": "1994-07-01",
                                    "2": "1998-12-31",
                                    "3": "AC_ACCOUNT",
                                    "4": "90"
                                },
                                {
                                    "0": "201",
                                    "1": "1996-02-17",
                                    "2": "1999-12-19",
                                    "3": "MK_REP",
                                    "4": "20"
                                }
                            ]
                        },
                        "text/html": [
                            "<table>",
                            "<tr><th>EMPLOYEE_ID</th><th>START_DATE</th><th>END_DATE</th><th>JOB_ID</th><th>DEPARTMENT_ID</th></tr>",
                            "<tr><td>101</td><td>1989-09-21</td><td>1993-10-27</td><td>AC_ACCOUNT</td><td>110</td></tr>",
                            "<tr><td>101</td><td>1993-10-28</td><td>1997-03-15</td><td>AC_MGR</td><td>110</td></tr>",
                            "<tr><td>102</td><td>1993-01-13</td><td>1998-07-24</td><td>IT_PROG</td><td>60</td></tr>",
                            "<tr><td>114</td><td>1998-03-24</td><td>1999-12-31</td><td>ST_CLERK</td><td>50</td></tr>",
                            "<tr><td>122</td><td>1999-01-01</td><td>1999-12-31</td><td>ST_CLERK</td><td>50</td></tr>",
                            "<tr><td>176</td><td>1998-03-24</td><td>1998-12-31</td><td>SA_REP</td><td>80</td></tr>",
                            "<tr><td>176</td><td>1999-01-01</td><td>1999-12-31</td><td>SA_MAN</td><td>80</td></tr>",
                            "<tr><td>200</td><td>1987-09-17</td><td>1993-06-17</td><td>AD_ASST</td><td>90</td></tr>",
                            "<tr><td>200</td><td>1994-07-01</td><td>1998-12-31</td><td>AC_ACCOUNT</td><td>90</td></tr>",
                            "<tr><td>201</td><td>1996-02-17</td><td>1999-12-19</td><td>MK_REP</td><td>20</td></tr>",
                            "</table>"
                        ]
                    }
                },
                {
                    "output_type": "execute_result",
                    "metadata": {},
                    "execution_count": 24,
                    "data": {
                        "application/vnd.dataresource+json": {
                            "schema": {
                                "fields": [
                                    {
                                        "name": "DEPARTMENT_ID"
                                    },
                                    {
                                        "name": "DEPARTMENT_NAME"
                                    },
                                    {
                                        "name": "MANAGER_ID"
                                    },
                                    {
                                        "name": "LOCATION_ID"
                                    }
                                ]
                            },
                            "data": [
                                {
                                    "0": "80",
                                    "1": "Sales",
                                    "2": "145",
                                    "3": "2500"
                                },
                                {
                                    "0": "90",
                                    "1": "Executive",
                                    "2": "100",
                                    "3": "1700"
                                }
                            ]
                        },
                        "text/html": [
                            "<table>",
                            "<tr><th>DEPARTMENT_ID</th><th>DEPARTMENT_NAME</th><th>MANAGER_ID</th><th>LOCATION_ID</th></tr>",
                            "<tr><td>80</td><td>Sales</td><td>145</td><td>2500</td></tr>",
                            "<tr><td>90</td><td>Executive</td><td>100</td><td>1700</td></tr>",
                            "</table>"
                        ]
                    }
                }
            ],
            "execution_count": 24
        },
        {
            "cell_type": "code",
            "source": [
                "--Q10\r\n",
                "select * from locations\r\n",
                "select * from departments where DEPARTMENT_ID in (70,90,110)"
            ],
            "metadata": {
                "language": "sql",
                "azdata_cell_guid": "b9d9e1ba-5fa8-410f-84eb-daf47e589920"
            },
            "outputs": [
                {
                    "output_type": "display_data",
                    "data": {
                        "text/html": "(23 rows affected)"
                    },
                    "metadata": {}
                },
                {
                    "output_type": "display_data",
                    "data": {
                        "text/html": "(3 rows affected)"
                    },
                    "metadata": {}
                },
                {
                    "output_type": "display_data",
                    "data": {
                        "text/html": "Total execution time: 00:00:00.007"
                    },
                    "metadata": {}
                },
                {
                    "output_type": "execute_result",
                    "metadata": {},
                    "execution_count": 26,
                    "data": {
                        "application/vnd.dataresource+json": {
                            "schema": {
                                "fields": [
                                    {
                                        "name": "LOCATION_ID"
                                    },
                                    {
                                        "name": "STREET_ADDRESS"
                                    },
                                    {
                                        "name": "POSTAL_CODE"
                                    },
                                    {
                                        "name": "CITY"
                                    },
                                    {
                                        "name": "STATE_PROVINCE"
                                    },
                                    {
                                        "name": "COUNTRY_ID"
                                    }
                                ]
                            },
                            "data": [
                                {
                                    "0": "1000",
                                    "1": "1297 Via Cola di Rie",
                                    "2": "989",
                                    "3": "Roma",
                                    "4": "",
                                    "5": "IT"
                                },
                                {
                                    "0": "1100",
                                    "1": "93091 Calle della Testa",
                                    "2": "10934",
                                    "3": "Venice",
                                    "4": "",
                                    "5": "IT"
                                },
                                {
                                    "0": "1200",
                                    "1": "2017 Shinjuku-ku",
                                    "2": "1689",
                                    "3": "Tokyo",
                                    "4": "Tokyo Prefecture",
                                    "5": "JP"
                                },
                                {
                                    "0": "1300",
                                    "1": "9450 Kamiya-cho",
                                    "2": "6823",
                                    "3": "Hiroshima",
                                    "4": "",
                                    "5": "JP"
                                },
                                {
                                    "0": "1400",
                                    "1": "2014 Jabberwocky Rd",
                                    "2": "26192",
                                    "3": "Southlake",
                                    "4": "Texas",
                                    "5": "US"
                                },
                                {
                                    "0": "1500",
                                    "1": "2011 Interiors Blvd",
                                    "2": "99236",
                                    "3": "South San Francisco",
                                    "4": "California",
                                    "5": "US"
                                },
                                {
                                    "0": "1600",
                                    "1": "2007 Zagora St",
                                    "2": "50090",
                                    "3": "South Brunswick",
                                    "4": "New Jersey",
                                    "5": "US"
                                },
                                {
                                    "0": "1700",
                                    "1": "2004 Charade Rd",
                                    "2": "98199",
                                    "3": "Seattle",
                                    "4": "Washington",
                                    "5": "US"
                                },
                                {
                                    "0": "1800",
                                    "1": "147 Spadina Ave",
                                    "2": "M5V 2L7",
                                    "3": "Toronto",
                                    "4": "Ontario",
                                    "5": "CA"
                                },
                                {
                                    "0": "1900",
                                    "1": "6092 Boxwood St",
                                    "2": "YSW 9T2",
                                    "3": "Whitehorse",
                                    "4": "Yukon",
                                    "5": "CA"
                                },
                                {
                                    "0": "2000",
                                    "1": "40-5-12 Laogianggen",
                                    "2": "190518",
                                    "3": "Beijing",
                                    "4": "",
                                    "5": "CN"
                                },
                                {
                                    "0": "2100",
                                    "1": "1298 Vileparle (E)",
                                    "2": "490231",
                                    "3": "Bombay",
                                    "4": "Maharashtra",
                                    "5": "IN"
                                },
                                {
                                    "0": "2200",
                                    "1": "12-98 Victoria Street",
                                    "2": "2901",
                                    "3": "Sydney",
                                    "4": "New South Wales",
                                    "5": "AU"
                                },
                                {
                                    "0": "2300",
                                    "1": "198 Clementi North",
                                    "2": "540198",
                                    "3": "Singapore",
                                    "4": "",
                                    "5": "SG"
                                },
                                {
                                    "0": "2400",
                                    "1": "8204 Arthur St",
                                    "2": "",
                                    "3": "London",
                                    "4": "",
                                    "5": "UK"
                                },
                                {
                                    "0": "2500",
                                    "1": "\"Magdalen Centre",
                                    "2": " The Oxford ",
                                    "3": "OX9 9ZB",
                                    "4": "Oxford",
                                    "5": "Ox"
                                },
                                {
                                    "0": "2600",
                                    "1": "9702 Chester Road",
                                    "2": "9629850293",
                                    "3": "Stretford",
                                    "4": "Manchester",
                                    "5": "UK"
                                },
                                {
                                    "0": "2700",
                                    "1": "Schwanthalerstr. 7031",
                                    "2": "80925",
                                    "3": "Munich",
                                    "4": "Bavaria",
                                    "5": "DE"
                                },
                                {
                                    "0": "2800",
                                    "1": "Rua Frei Caneca 1360",
                                    "2": "01307-002",
                                    "3": "Sao Paulo",
                                    "4": "Sao Paulo",
                                    "5": "BR"
                                },
                                {
                                    "0": "2900",
                                    "1": "20 Rue des Corps-Saints",
                                    "2": "1730",
                                    "3": "Geneva",
                                    "4": "Geneve",
                                    "5": "CH"
                                },
                                {
                                    "0": "3000",
                                    "1": "Murtenstrasse 921",
                                    "2": "3095",
                                    "3": "Bern",
                                    "4": "BE",
                                    "5": "CH"
                                },
                                {
                                    "0": "3100",
                                    "1": "Pieter Breughelstraat 837",
                                    "2": "3029SK",
                                    "3": "Utrecht",
                                    "4": "Utrecht",
                                    "5": "NL"
                                },
                                {
                                    "0": "3200",
                                    "1": "Mariano Escobedo 9991",
                                    "2": "11932",
                                    "3": "Mexico City",
                                    "4": "\"Distrito Federal",
                                    "5": "\""
                                }
                            ]
                        },
                        "text/html": [
                            "<table>",
                            "<tr><th>LOCATION_ID</th><th>STREET_ADDRESS</th><th>POSTAL_CODE</th><th>CITY</th><th>STATE_PROVINCE</th><th>COUNTRY_ID</th></tr>",
                            "<tr><td>1000</td><td>1297 Via Cola di Rie</td><td>989</td><td>Roma</td><td></td><td>IT</td></tr>",
                            "<tr><td>1100</td><td>93091 Calle della Testa</td><td>10934</td><td>Venice</td><td></td><td>IT</td></tr>",
                            "<tr><td>1200</td><td>2017 Shinjuku-ku</td><td>1689</td><td>Tokyo</td><td>Tokyo Prefecture</td><td>JP</td></tr>",
                            "<tr><td>1300</td><td>9450 Kamiya-cho</td><td>6823</td><td>Hiroshima</td><td></td><td>JP</td></tr>",
                            "<tr><td>1400</td><td>2014 Jabberwocky Rd</td><td>26192</td><td>Southlake</td><td>Texas</td><td>US</td></tr>",
                            "<tr><td>1500</td><td>2011 Interiors Blvd</td><td>99236</td><td>South San Francisco</td><td>California</td><td>US</td></tr>",
                            "<tr><td>1600</td><td>2007 Zagora St</td><td>50090</td><td>South Brunswick</td><td>New Jersey</td><td>US</td></tr>",
                            "<tr><td>1700</td><td>2004 Charade Rd</td><td>98199</td><td>Seattle</td><td>Washington</td><td>US</td></tr>",
                            "<tr><td>1800</td><td>147 Spadina Ave</td><td>M5V 2L7</td><td>Toronto</td><td>Ontario</td><td>CA</td></tr>",
                            "<tr><td>1900</td><td>6092 Boxwood St</td><td>YSW 9T2</td><td>Whitehorse</td><td>Yukon</td><td>CA</td></tr>",
                            "<tr><td>2000</td><td>40-5-12 Laogianggen</td><td>190518</td><td>Beijing</td><td></td><td>CN</td></tr>",
                            "<tr><td>2100</td><td>1298 Vileparle (E)</td><td>490231</td><td>Bombay</td><td>Maharashtra</td><td>IN</td></tr>",
                            "<tr><td>2200</td><td>12-98 Victoria Street</td><td>2901</td><td>Sydney</td><td>New South Wales</td><td>AU</td></tr>",
                            "<tr><td>2300</td><td>198 Clementi North</td><td>540198</td><td>Singapore</td><td></td><td>SG</td></tr>",
                            "<tr><td>2400</td><td>8204 Arthur St</td><td></td><td>London</td><td></td><td>UK</td></tr>",
                            "<tr><td>2500</td><td>&quot;Magdalen Centre</td><td> The Oxford </td><td>OX9 9ZB</td><td>Oxford</td><td>Ox</td></tr>",
                            "<tr><td>2600</td><td>9702 Chester Road</td><td>9629850293</td><td>Stretford</td><td>Manchester</td><td>UK</td></tr>",
                            "<tr><td>2700</td><td>Schwanthalerstr. 7031</td><td>80925</td><td>Munich</td><td>Bavaria</td><td>DE</td></tr>",
                            "<tr><td>2800</td><td>Rua Frei Caneca 1360</td><td>01307-002</td><td>Sao Paulo</td><td>Sao Paulo</td><td>BR</td></tr>",
                            "<tr><td>2900</td><td>20 Rue des Corps-Saints</td><td>1730</td><td>Geneva</td><td>Geneve</td><td>CH</td></tr>",
                            "<tr><td>3000</td><td>Murtenstrasse 921</td><td>3095</td><td>Bern</td><td>BE</td><td>CH</td></tr>",
                            "<tr><td>3100</td><td>Pieter Breughelstraat 837</td><td>3029SK</td><td>Utrecht</td><td>Utrecht</td><td>NL</td></tr>",
                            "<tr><td>3200</td><td>Mariano Escobedo 9991</td><td>11932</td><td>Mexico City</td><td>&quot;Distrito Federal</td><td>&quot;</td></tr>",
                            "</table>"
                        ]
                    }
                },
                {
                    "output_type": "execute_result",
                    "metadata": {},
                    "execution_count": 26,
                    "data": {
                        "application/vnd.dataresource+json": {
                            "schema": {
                                "fields": [
                                    {
                                        "name": "DEPARTMENT_ID"
                                    },
                                    {
                                        "name": "DEPARTMENT_NAME"
                                    },
                                    {
                                        "name": "MANAGER_ID"
                                    },
                                    {
                                        "name": "LOCATION_ID"
                                    }
                                ]
                            },
                            "data": [
                                {
                                    "0": "70",
                                    "1": "Public Relations",
                                    "2": "204",
                                    "3": "2700"
                                },
                                {
                                    "0": "90",
                                    "1": "Executive",
                                    "2": "100",
                                    "3": "1700"
                                },
                                {
                                    "0": "110",
                                    "1": "Accounting",
                                    "2": "205",
                                    "3": "1700"
                                }
                            ]
                        },
                        "text/html": [
                            "<table>",
                            "<tr><th>DEPARTMENT_ID</th><th>DEPARTMENT_NAME</th><th>MANAGER_ID</th><th>LOCATION_ID</th></tr>",
                            "<tr><td>70</td><td>Public Relations</td><td>204</td><td>2700</td></tr>",
                            "<tr><td>90</td><td>Executive</td><td>100</td><td>1700</td></tr>",
                            "<tr><td>110</td><td>Accounting</td><td>205</td><td>1700</td></tr>",
                            "</table>"
                        ]
                    }
                }
            ],
            "execution_count": 26
        },
        {
            "cell_type": "code",
            "source": [
                "--Q11\r\n",
                "select DEPARTMENT_ID, concat(FIRST_NAME, '', LAST_NAME)as FullName, SALARY from employees1 a \r\n",
                "WHERE SALARY in(SELECT max(SALARY) from employees1 where DEPARTMENT_ID=a.DEPARTMENT_ID)"
            ],
            "metadata": {
                "language": "sql",
                "azdata_cell_guid": "69a8e706-708d-404a-8b3e-4b88887524aa"
            },
            "outputs": [
                {
                    "output_type": "display_data",
                    "data": {
                        "text/html": "(12 rows affected)"
                    },
                    "metadata": {}
                },
                {
                    "output_type": "display_data",
                    "data": {
                        "text/html": "Total execution time: 00:00:00.010"
                    },
                    "metadata": {}
                },
                {
                    "output_type": "execute_result",
                    "metadata": {},
                    "execution_count": 27,
                    "data": {
                        "application/vnd.dataresource+json": {
                            "schema": {
                                "fields": [
                                    {
                                        "name": "DEPARTMENT_ID"
                                    },
                                    {
                                        "name": "FullName"
                                    },
                                    {
                                        "name": "SALARY"
                                    }
                                ]
                            },
                            "data": [
                                {
                                    "0": "110",
                                    "1": "ShelleyHiggins",
                                    "2": "12000.00"
                                },
                                {
                                    "0": "100",
                                    "1": "NancyGreenberg",
                                    "2": "12000.00"
                                },
                                {
                                    "0": "90",
                                    "1": "StevenKing",
                                    "2": "24000.00"
                                },
                                {
                                    "0": "80",
                                    "1": "JohnRussell",
                                    "2": "14000.00"
                                },
                                {
                                    "0": "70",
                                    "1": "HermannBaer",
                                    "2": "10000.00"
                                },
                                {
                                    "0": "60",
                                    "1": "AlexanderHunold",
                                    "2": "9000.00"
                                },
                                {
                                    "0": "50",
                                    "1": "AdamFripp",
                                    "2": "8200.00"
                                },
                                {
                                    "0": "40",
                                    "1": "SusanMavris",
                                    "2": "6500.00"
                                },
                                {
                                    "0": "30",
                                    "1": "DenRaphaely",
                                    "2": "11000.00"
                                },
                                {
                                    "0": "20",
                                    "1": "MichaelHartstein",
                                    "2": "13000.00"
                                },
                                {
                                    "0": "10",
                                    "1": "JenniferWhalen",
                                    "2": "4400.00"
                                },
                                {
                                    "0": "0",
                                    "1": "KimberelyGrant",
                                    "2": "7000.00"
                                }
                            ]
                        },
                        "text/html": [
                            "<table>",
                            "<tr><th>DEPARTMENT_ID</th><th>FullName</th><th>SALARY</th></tr>",
                            "<tr><td>110</td><td>ShelleyHiggins</td><td>12000.00</td></tr>",
                            "<tr><td>100</td><td>NancyGreenberg</td><td>12000.00</td></tr>",
                            "<tr><td>90</td><td>StevenKing</td><td>24000.00</td></tr>",
                            "<tr><td>80</td><td>JohnRussell</td><td>14000.00</td></tr>",
                            "<tr><td>70</td><td>HermannBaer</td><td>10000.00</td></tr>",
                            "<tr><td>60</td><td>AlexanderHunold</td><td>9000.00</td></tr>",
                            "<tr><td>50</td><td>AdamFripp</td><td>8200.00</td></tr>",
                            "<tr><td>40</td><td>SusanMavris</td><td>6500.00</td></tr>",
                            "<tr><td>30</td><td>DenRaphaely</td><td>11000.00</td></tr>",
                            "<tr><td>20</td><td>MichaelHartstein</td><td>13000.00</td></tr>",
                            "<tr><td>10</td><td>JenniferWhalen</td><td>4400.00</td></tr>",
                            "<tr><td>0</td><td>KimberelyGrant</td><td>7000.00</td></tr>",
                            "</table>"
                        ]
                    }
                }
            ],
            "execution_count": 27
        },
        {
            "cell_type": "code",
            "source": [
                "--Q12\r\n",
                "select * from jobs\r\n",
                "select job_id,JOB_TITLE,MIN_SALARY,MAX_SALARY from jobs where JOB_ID='SA_REP'\r\n",
                ""
            ],
            "metadata": {
                "language": "sql",
                "azdata_cell_guid": "d6ebe545-fe05-4aab-9b32-d6303e105f69"
            },
            "outputs": [
                {
                    "output_type": "display_data",
                    "data": {
                        "text/html": "(19 rows affected)"
                    },
                    "metadata": {}
                },
                {
                    "output_type": "display_data",
                    "data": {
                        "text/html": "(1 row affected)"
                    },
                    "metadata": {}
                },
                {
                    "output_type": "display_data",
                    "data": {
                        "text/html": "Total execution time: 00:00:00.016"
                    },
                    "metadata": {}
                },
                {
                    "output_type": "execute_result",
                    "metadata": {},
                    "execution_count": 28,
                    "data": {
                        "application/vnd.dataresource+json": {
                            "schema": {
                                "fields": [
                                    {
                                        "name": "JOB_ID"
                                    },
                                    {
                                        "name": "JOB_TITLE"
                                    },
                                    {
                                        "name": "MIN_SALARY"
                                    },
                                    {
                                        "name": "MAX_SALARY"
                                    }
                                ]
                            },
                            "data": [
                                {
                                    "0": "AC_ACCOUNT",
                                    "1": "Public Accountant",
                                    "2": "4200",
                                    "3": "9000"
                                },
                                {
                                    "0": "AC_MGR",
                                    "1": "Accounting Manager",
                                    "2": "8200",
                                    "3": "16000"
                                },
                                {
                                    "0": "AD_ASST",
                                    "1": "Administration Assistant",
                                    "2": "3000",
                                    "3": "6000"
                                },
                                {
                                    "0": "AD_PRES",
                                    "1": "President",
                                    "2": "20000",
                                    "3": "40000"
                                },
                                {
                                    "0": "AD_VP",
                                    "1": "Administration Vice President",
                                    "2": "15000",
                                    "3": "30000"
                                },
                                {
                                    "0": "FI_ACCOUNT",
                                    "1": "Accountant",
                                    "2": "4200",
                                    "3": "9000"
                                },
                                {
                                    "0": "FI_MGR",
                                    "1": "Finance Manager",
                                    "2": "8200",
                                    "3": "16000"
                                },
                                {
                                    "0": "HR_REP",
                                    "1": "Human Resources Representative",
                                    "2": "4000",
                                    "3": "9000"
                                },
                                {
                                    "0": "IT_PROG",
                                    "1": "Programmer",
                                    "2": "4000",
                                    "3": "10000"
                                },
                                {
                                    "0": "MK_MAN",
                                    "1": "Marketing Manager",
                                    "2": "9000",
                                    "3": "15000"
                                },
                                {
                                    "0": "MK_REP",
                                    "1": "Marketing Representative",
                                    "2": "4000",
                                    "3": "9000"
                                },
                                {
                                    "0": "PR_REP",
                                    "1": "Public Relations Representative",
                                    "2": "4500",
                                    "3": "10500"
                                },
                                {
                                    "0": "PU_CLERK",
                                    "1": "Purchasing Clerk",
                                    "2": "2500",
                                    "3": "5500"
                                },
                                {
                                    "0": "PU_MAN",
                                    "1": "Purchasing Manager",
                                    "2": "8000",
                                    "3": "15000"
                                },
                                {
                                    "0": "SA_MAN",
                                    "1": "Sales Manager",
                                    "2": "10000",
                                    "3": "20000"
                                },
                                {
                                    "0": "SA_REP",
                                    "1": "Sales Representative",
                                    "2": "6000",
                                    "3": "12000"
                                },
                                {
                                    "0": "SH_CLERK",
                                    "1": "Shipping Clerk",
                                    "2": "2500",
                                    "3": "5500"
                                },
                                {
                                    "0": "ST_CLERK",
                                    "1": "Stock Clerk",
                                    "2": "2000",
                                    "3": "5000"
                                },
                                {
                                    "0": "ST_MAN",
                                    "1": "Stock Manager",
                                    "2": "5500",
                                    "3": "8500"
                                }
                            ]
                        },
                        "text/html": [
                            "<table>",
                            "<tr><th>JOB_ID</th><th>JOB_TITLE</th><th>MIN_SALARY</th><th>MAX_SALARY</th></tr>",
                            "<tr><td>AC_ACCOUNT</td><td>Public Accountant</td><td>4200</td><td>9000</td></tr>",
                            "<tr><td>AC_MGR</td><td>Accounting Manager</td><td>8200</td><td>16000</td></tr>",
                            "<tr><td>AD_ASST</td><td>Administration Assistant</td><td>3000</td><td>6000</td></tr>",
                            "<tr><td>AD_PRES</td><td>President</td><td>20000</td><td>40000</td></tr>",
                            "<tr><td>AD_VP</td><td>Administration Vice President</td><td>15000</td><td>30000</td></tr>",
                            "<tr><td>FI_ACCOUNT</td><td>Accountant</td><td>4200</td><td>9000</td></tr>",
                            "<tr><td>FI_MGR</td><td>Finance Manager</td><td>8200</td><td>16000</td></tr>",
                            "<tr><td>HR_REP</td><td>Human Resources Representative</td><td>4000</td><td>9000</td></tr>",
                            "<tr><td>IT_PROG</td><td>Programmer</td><td>4000</td><td>10000</td></tr>",
                            "<tr><td>MK_MAN</td><td>Marketing Manager</td><td>9000</td><td>15000</td></tr>",
                            "<tr><td>MK_REP</td><td>Marketing Representative</td><td>4000</td><td>9000</td></tr>",
                            "<tr><td>PR_REP</td><td>Public Relations Representative</td><td>4500</td><td>10500</td></tr>",
                            "<tr><td>PU_CLERK</td><td>Purchasing Clerk</td><td>2500</td><td>5500</td></tr>",
                            "<tr><td>PU_MAN</td><td>Purchasing Manager</td><td>8000</td><td>15000</td></tr>",
                            "<tr><td>SA_MAN</td><td>Sales Manager</td><td>10000</td><td>20000</td></tr>",
                            "<tr><td>SA_REP</td><td>Sales Representative</td><td>6000</td><td>12000</td></tr>",
                            "<tr><td>SH_CLERK</td><td>Shipping Clerk</td><td>2500</td><td>5500</td></tr>",
                            "<tr><td>ST_CLERK</td><td>Stock Clerk</td><td>2000</td><td>5000</td></tr>",
                            "<tr><td>ST_MAN</td><td>Stock Manager</td><td>5500</td><td>8500</td></tr>",
                            "</table>"
                        ]
                    }
                },
                {
                    "output_type": "execute_result",
                    "metadata": {},
                    "execution_count": 28,
                    "data": {
                        "application/vnd.dataresource+json": {
                            "schema": {
                                "fields": [
                                    {
                                        "name": "job_id"
                                    },
                                    {
                                        "name": "JOB_TITLE"
                                    },
                                    {
                                        "name": "MIN_SALARY"
                                    },
                                    {
                                        "name": "MAX_SALARY"
                                    }
                                ]
                            },
                            "data": [
                                {
                                    "0": "SA_REP",
                                    "1": "Sales Representative",
                                    "2": "6000",
                                    "3": "12000"
                                }
                            ]
                        },
                        "text/html": [
                            "<table>",
                            "<tr><th>job_id</th><th>JOB_TITLE</th><th>MIN_SALARY</th><th>MAX_SALARY</th></tr>",
                            "<tr><td>SA_REP</td><td>Sales Representative</td><td>6000</td><td>12000</td></tr>",
                            "</table>"
                        ]
                    }
                }
            ],
            "execution_count": 28
        }
    ]
}